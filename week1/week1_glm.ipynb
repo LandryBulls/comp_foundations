{
 "cells": [
  {
   "cell_type": "markdown",
   "source": [
    "# GLM MATLAB example code implemented in Python (as best I know how)"
   ],
   "metadata": {
    "collapsed": false
   },
   "id": "c6f00b0002940c67"
  },
  {
   "cell_type": "code",
   "execution_count": 39,
   "outputs": [],
   "source": [
    "import statsmodels.api as sm \n",
    "import pandas as pd\n",
    "import datasets as ds\n",
    "import numpy as np\n",
    "import matplotlib.pyplot as plt\n",
    "import os\n",
    "%matplotlib inline"
   ],
   "metadata": {
    "collapsed": false,
    "ExecuteTime": {
     "end_time": "2023-09-21T17:55:43.396014Z",
     "start_time": "2023-09-21T17:55:43.391163Z"
    }
   },
   "id": "initial_id"
  },
  {
   "cell_type": "code",
   "execution_count": 42,
   "outputs": [
    {
     "data": {
      "text/plain": "       id  time  group  pain_avg  bpi_intensity  bpi_interference   odi  \\\n0      12     1    3.0       2.0           2.50          1.000000  12.0   \n1      12     2    3.0       3.0           2.75          2.142857  12.0   \n2      14     1    3.0       2.0           2.50          1.142857  26.0   \n3      14     2    3.0       3.0           2.00          1.285714  20.0   \n4      15     1    3.0       2.0           2.25          1.000000  10.0   \n..    ...   ...    ...       ...            ...               ...   ...   \n336  9051     1    NaN       0.0           0.25          0.000000   2.0   \n337  9052     1    NaN       0.0           0.75          0.428571   0.0   \n338  9053     1    NaN       1.0           1.00          1.571429   0.0   \n339  9054     1    NaN       0.0           0.00          0.000000   0.0   \n340  9055     1    NaN       0.0           0.50          0.000000   0.0   \n\n     promis_dep  promis_anger  promis_anxiety  ...  exercise  handedness  \\\n0          20.0          13.0            24.0  ...       3.0         1.0   \n1          22.0          18.0            28.0  ...       3.0         1.0   \n2           8.0           5.0             9.0  ...       4.0         1.0   \n3          10.0           5.0            12.0  ...       4.0         1.0   \n4          10.0           9.0             8.0  ...       3.0         1.0   \n..          ...           ...             ...  ...       ...         ...   \n336        12.0           9.0            12.0  ...       3.0         1.0   \n337        10.0           5.0             9.0  ...       5.0         1.0   \n338        12.0           7.0            16.0  ...       2.0         1.0   \n339         8.0           6.0            10.0  ...       3.0         2.0   \n340         8.0           7.0            16.0  ...       3.0         1.0   \n\n     sses  married_or_living_as_marri        age  weight  gender  \\\n0     4.0                         0.0  21.000000   115.0     1.0   \n1     4.0                         0.0  21.000000   115.0     1.0   \n2     9.0                         0.0  66.000000   120.0     2.0   \n3     9.0                         0.0  66.000000   120.0     2.0   \n4     6.0                         1.0  41.000000   185.0     1.0   \n..    ...                         ...        ...     ...     ...   \n336   7.0                         0.0  24.260594   170.0     2.0   \n337   7.0                         0.0  22.103123   135.0     2.0   \n338   3.0                         0.0  25.144938   133.0     2.0   \n339   5.0                         0.0  24.435820   100.0     2.0   \n340   8.0                         0.0  23.362560   165.0     2.0   \n\n     current_opioid_use  backpain_length  is_patient  \n0           <undefined>              3.0           1  \n1           <undefined>              3.0           1  \n2           <undefined>             35.0           1  \n3           <undefined>             35.0           1  \n4           <undefined>             10.0           1  \n..                  ...              ...         ...  \n336         <undefined>              NaN           0  \n337         <undefined>              NaN           0  \n338         <undefined>              NaN           0  \n339         <undefined>              NaN           0  \n340         <undefined>              NaN           0  \n\n[341 rows x 35 columns]",
      "text/html": "<div>\n<style scoped>\n    .dataframe tbody tr th:only-of-type {\n        vertical-align: middle;\n    }\n\n    .dataframe tbody tr th {\n        vertical-align: top;\n    }\n\n    .dataframe thead th {\n        text-align: right;\n    }\n</style>\n<table border=\"1\" class=\"dataframe\">\n  <thead>\n    <tr style=\"text-align: right;\">\n      <th></th>\n      <th>id</th>\n      <th>time</th>\n      <th>group</th>\n      <th>pain_avg</th>\n      <th>bpi_intensity</th>\n      <th>bpi_interference</th>\n      <th>odi</th>\n      <th>promis_dep</th>\n      <th>promis_anger</th>\n      <th>promis_anxiety</th>\n      <th>...</th>\n      <th>exercise</th>\n      <th>handedness</th>\n      <th>sses</th>\n      <th>married_or_living_as_marri</th>\n      <th>age</th>\n      <th>weight</th>\n      <th>gender</th>\n      <th>current_opioid_use</th>\n      <th>backpain_length</th>\n      <th>is_patient</th>\n    </tr>\n  </thead>\n  <tbody>\n    <tr>\n      <th>0</th>\n      <td>12</td>\n      <td>1</td>\n      <td>3.0</td>\n      <td>2.0</td>\n      <td>2.50</td>\n      <td>1.000000</td>\n      <td>12.0</td>\n      <td>20.0</td>\n      <td>13.0</td>\n      <td>24.0</td>\n      <td>...</td>\n      <td>3.0</td>\n      <td>1.0</td>\n      <td>4.0</td>\n      <td>0.0</td>\n      <td>21.000000</td>\n      <td>115.0</td>\n      <td>1.0</td>\n      <td>&lt;undefined&gt;</td>\n      <td>3.0</td>\n      <td>1</td>\n    </tr>\n    <tr>\n      <th>1</th>\n      <td>12</td>\n      <td>2</td>\n      <td>3.0</td>\n      <td>3.0</td>\n      <td>2.75</td>\n      <td>2.142857</td>\n      <td>12.0</td>\n      <td>22.0</td>\n      <td>18.0</td>\n      <td>28.0</td>\n      <td>...</td>\n      <td>3.0</td>\n      <td>1.0</td>\n      <td>4.0</td>\n      <td>0.0</td>\n      <td>21.000000</td>\n      <td>115.0</td>\n      <td>1.0</td>\n      <td>&lt;undefined&gt;</td>\n      <td>3.0</td>\n      <td>1</td>\n    </tr>\n    <tr>\n      <th>2</th>\n      <td>14</td>\n      <td>1</td>\n      <td>3.0</td>\n      <td>2.0</td>\n      <td>2.50</td>\n      <td>1.142857</td>\n      <td>26.0</td>\n      <td>8.0</td>\n      <td>5.0</td>\n      <td>9.0</td>\n      <td>...</td>\n      <td>4.0</td>\n      <td>1.0</td>\n      <td>9.0</td>\n      <td>0.0</td>\n      <td>66.000000</td>\n      <td>120.0</td>\n      <td>2.0</td>\n      <td>&lt;undefined&gt;</td>\n      <td>35.0</td>\n      <td>1</td>\n    </tr>\n    <tr>\n      <th>3</th>\n      <td>14</td>\n      <td>2</td>\n      <td>3.0</td>\n      <td>3.0</td>\n      <td>2.00</td>\n      <td>1.285714</td>\n      <td>20.0</td>\n      <td>10.0</td>\n      <td>5.0</td>\n      <td>12.0</td>\n      <td>...</td>\n      <td>4.0</td>\n      <td>1.0</td>\n      <td>9.0</td>\n      <td>0.0</td>\n      <td>66.000000</td>\n      <td>120.0</td>\n      <td>2.0</td>\n      <td>&lt;undefined&gt;</td>\n      <td>35.0</td>\n      <td>1</td>\n    </tr>\n    <tr>\n      <th>4</th>\n      <td>15</td>\n      <td>1</td>\n      <td>3.0</td>\n      <td>2.0</td>\n      <td>2.25</td>\n      <td>1.000000</td>\n      <td>10.0</td>\n      <td>10.0</td>\n      <td>9.0</td>\n      <td>8.0</td>\n      <td>...</td>\n      <td>3.0</td>\n      <td>1.0</td>\n      <td>6.0</td>\n      <td>1.0</td>\n      <td>41.000000</td>\n      <td>185.0</td>\n      <td>1.0</td>\n      <td>&lt;undefined&gt;</td>\n      <td>10.0</td>\n      <td>1</td>\n    </tr>\n    <tr>\n      <th>...</th>\n      <td>...</td>\n      <td>...</td>\n      <td>...</td>\n      <td>...</td>\n      <td>...</td>\n      <td>...</td>\n      <td>...</td>\n      <td>...</td>\n      <td>...</td>\n      <td>...</td>\n      <td>...</td>\n      <td>...</td>\n      <td>...</td>\n      <td>...</td>\n      <td>...</td>\n      <td>...</td>\n      <td>...</td>\n      <td>...</td>\n      <td>...</td>\n      <td>...</td>\n      <td>...</td>\n    </tr>\n    <tr>\n      <th>336</th>\n      <td>9051</td>\n      <td>1</td>\n      <td>NaN</td>\n      <td>0.0</td>\n      <td>0.25</td>\n      <td>0.000000</td>\n      <td>2.0</td>\n      <td>12.0</td>\n      <td>9.0</td>\n      <td>12.0</td>\n      <td>...</td>\n      <td>3.0</td>\n      <td>1.0</td>\n      <td>7.0</td>\n      <td>0.0</td>\n      <td>24.260594</td>\n      <td>170.0</td>\n      <td>2.0</td>\n      <td>&lt;undefined&gt;</td>\n      <td>NaN</td>\n      <td>0</td>\n    </tr>\n    <tr>\n      <th>337</th>\n      <td>9052</td>\n      <td>1</td>\n      <td>NaN</td>\n      <td>0.0</td>\n      <td>0.75</td>\n      <td>0.428571</td>\n      <td>0.0</td>\n      <td>10.0</td>\n      <td>5.0</td>\n      <td>9.0</td>\n      <td>...</td>\n      <td>5.0</td>\n      <td>1.0</td>\n      <td>7.0</td>\n      <td>0.0</td>\n      <td>22.103123</td>\n      <td>135.0</td>\n      <td>2.0</td>\n      <td>&lt;undefined&gt;</td>\n      <td>NaN</td>\n      <td>0</td>\n    </tr>\n    <tr>\n      <th>338</th>\n      <td>9053</td>\n      <td>1</td>\n      <td>NaN</td>\n      <td>1.0</td>\n      <td>1.00</td>\n      <td>1.571429</td>\n      <td>0.0</td>\n      <td>12.0</td>\n      <td>7.0</td>\n      <td>16.0</td>\n      <td>...</td>\n      <td>2.0</td>\n      <td>1.0</td>\n      <td>3.0</td>\n      <td>0.0</td>\n      <td>25.144938</td>\n      <td>133.0</td>\n      <td>2.0</td>\n      <td>&lt;undefined&gt;</td>\n      <td>NaN</td>\n      <td>0</td>\n    </tr>\n    <tr>\n      <th>339</th>\n      <td>9054</td>\n      <td>1</td>\n      <td>NaN</td>\n      <td>0.0</td>\n      <td>0.00</td>\n      <td>0.000000</td>\n      <td>0.0</td>\n      <td>8.0</td>\n      <td>6.0</td>\n      <td>10.0</td>\n      <td>...</td>\n      <td>3.0</td>\n      <td>2.0</td>\n      <td>5.0</td>\n      <td>0.0</td>\n      <td>24.435820</td>\n      <td>100.0</td>\n      <td>2.0</td>\n      <td>&lt;undefined&gt;</td>\n      <td>NaN</td>\n      <td>0</td>\n    </tr>\n    <tr>\n      <th>340</th>\n      <td>9055</td>\n      <td>1</td>\n      <td>NaN</td>\n      <td>0.0</td>\n      <td>0.50</td>\n      <td>0.000000</td>\n      <td>0.0</td>\n      <td>8.0</td>\n      <td>7.0</td>\n      <td>16.0</td>\n      <td>...</td>\n      <td>3.0</td>\n      <td>1.0</td>\n      <td>8.0</td>\n      <td>0.0</td>\n      <td>23.362560</td>\n      <td>165.0</td>\n      <td>2.0</td>\n      <td>&lt;undefined&gt;</td>\n      <td>NaN</td>\n      <td>0</td>\n    </tr>\n  </tbody>\n</table>\n<p>341 rows × 35 columns</p>\n</div>"
     },
     "execution_count": 42,
     "metadata": {},
     "output_type": "execute_result"
    }
   ],
   "source": [
    "# load the data\n",
    "data = pd.read_csv('./Ashar_2022_PRT_backpain/Ashar2022_outcomes_demographics.csv')\n",
    "data"
   ],
   "metadata": {
    "collapsed": false,
    "ExecuteTime": {
     "end_time": "2023-09-21T17:56:11.226185Z",
     "start_time": "2023-09-21T17:56:11.171250Z"
    }
   },
   "id": "d3c16e411a783ed8"
  },
  {
   "cell_type": "code",
   "execution_count": 6,
   "outputs": [
    {
     "name": "stdout",
     "output_type": "stream",
     "text": [
      "id\n",
      "time\n",
      "group\n",
      "pain_avg\n",
      "bpi_intensity\n",
      "bpi_interference\n",
      "odi\n",
      "promis_dep\n",
      "promis_anger\n",
      "promis_anxiety\n",
      "promis_sleep\n",
      "panas_pa\n",
      "panas_na\n",
      "pcs\n",
      "tsk11\n",
      "sopa_emo\n",
      "pgic\n",
      "tx_satisfaction\n",
      "alcohol\n",
      "opioid\n",
      "cannabis\n",
      "education\n",
      "ethnicity\n",
      "hispanic\n",
      "employment_status\n",
      "exercise\n",
      "handedness\n",
      "sses\n",
      "married_or_living_as_marri\n",
      "age\n",
      "weight\n",
      "gender\n",
      "current_opioid_use\n",
      "backpain_length\n",
      "is_patient\n"
     ]
    }
   ],
   "source": [
    "# look at the variables (columns)\n",
    "for col in data.columns:\n",
    "    print(col)"
   ],
   "metadata": {
    "collapsed": false,
    "ExecuteTime": {
     "end_time": "2023-09-21T14:18:27.600124Z",
     "start_time": "2023-09-21T14:18:27.567503Z"
    }
   },
   "id": "d0dae2adc2cc79d6"
  },
  {
   "cell_type": "code",
   "execution_count": 7,
   "outputs": [
    {
     "name": "stdout",
     "output_type": "stream",
     "text": [
      "Number of subjects: 206\n"
     ]
    }
   ],
   "source": [
    "# get the shape of the dataframe \n",
    "n_subjs = data['id'].nunique()\n",
    "print(f\"Number of subjects: {n_subjs}\")"
   ],
   "metadata": {
    "collapsed": false,
    "ExecuteTime": {
     "end_time": "2023-09-21T14:18:28.087488Z",
     "start_time": "2023-09-21T14:18:27.828575Z"
    }
   },
   "id": "703341bbc417348b"
  },
  {
   "cell_type": "code",
   "execution_count": 8,
   "outputs": [
    {
     "name": "stdout",
     "output_type": "stream",
     "text": [
      "987 patients, 54 controls.\n"
     ]
    },
    {
     "data": {
      "text/plain": "is_patient\n1    287\n0     54\nName: count, dtype: int64"
     },
     "execution_count": 8,
     "metadata": {},
     "output_type": "execute_result"
    }
   ],
   "source": [
    "# how many patients? 1==patient, 2==control. \n",
    "print('987 patients, 54 controls.')\n",
    "data['is_patient'].value_counts()"
   ],
   "metadata": {
    "collapsed": false,
    "ExecuteTime": {
     "end_time": "2023-09-21T14:18:28.502860Z",
     "start_time": "2023-09-21T14:18:28.330548Z"
    }
   },
   "id": "89fa373b561e74bc"
  },
  {
   "cell_type": "code",
   "execution_count": 10,
   "outputs": [
    {
     "data": {
      "text/plain": "                id        time       group    pain_avg  bpi_intensity  \\\ncount   341.000000  341.000000  286.000000  340.000000     340.000000   \nmean   1967.307918    1.395894    2.010490    2.738235       2.821324   \nstd    3090.258322    0.489761    0.818575    1.868622       1.737117   \nmin      12.000000    1.000000    1.000000    0.000000       0.000000   \n25%     324.000000    1.000000    1.000000    1.000000       1.250000   \n50%     791.000000    1.000000    2.000000    3.000000       3.000000   \n75%    1159.000000    2.000000    3.000000    4.000000       4.000000   \nmax    9055.000000    2.000000    3.000000    7.000000       7.250000   \n\n       bpi_interference         odi  promis_dep  promis_anger  promis_anxiety  \\\ncount        340.000000  340.000000  340.000000    340.000000      339.000000   \nmean           2.198319   16.982353   12.455882     10.367647       14.474926   \nstd            1.939559   12.313014    4.679819      3.771123        6.192317   \nmin            0.000000    0.000000    8.000000      5.000000        8.000000   \n25%            0.571429    8.000000    9.000000      8.000000       10.000000   \n50%            1.857143   16.000000   11.000000     10.000000       12.000000   \n75%            3.285714   24.000000   15.000000     13.000000       18.000000   \nmax            8.714286   64.000000   32.000000     24.000000       40.000000   \n\n       ...  employment_status    exercise  handedness        sses  \\\ncount  ...         340.000000  339.000000  339.000000  339.000000   \nmean   ...           1.626471    3.253687    1.185841    6.654867   \nstd    ...           0.793710    0.961050    0.465661    1.769749   \nmin    ...           1.000000    1.000000    1.000000    1.000000   \n25%    ...           1.000000    3.000000    1.000000    6.000000   \n50%    ...           1.000000    3.000000    1.000000    7.000000   \n75%    ...           2.000000    4.000000    1.000000    8.000000   \nmax    ...           3.000000    5.000000    3.000000   10.000000   \n\n       married_or_living_as_marri         age      weight      gender  \\\ncount                  340.000000  340.000000  340.000000  340.000000   \nmean                     0.535294   41.425206  162.688235    1.532353   \nstd                      0.499488   15.411393   33.067596    0.499688   \nmin                      0.000000   19.608890   98.000000    1.000000   \n25%                      0.000000   27.000000  135.000000    1.000000   \n50%                      1.000000   39.000000  160.000000    2.000000   \n75%                      1.000000   56.000000  180.000000    2.000000   \nmax                      1.000000   70.000000  255.000000    2.000000   \n\n       backpain_length  is_patient  \ncount       286.000000  341.000000  \nmean         10.022552    0.841642  \nstd           8.835732    0.365613  \nmin           0.500000    0.000000  \n25%           4.000000    1.000000  \n50%           7.000000    1.000000  \n75%          15.000000    1.000000  \nmax          40.000000    1.000000  \n\n[8 rows x 34 columns]",
      "text/html": "<div>\n<style scoped>\n    .dataframe tbody tr th:only-of-type {\n        vertical-align: middle;\n    }\n\n    .dataframe tbody tr th {\n        vertical-align: top;\n    }\n\n    .dataframe thead th {\n        text-align: right;\n    }\n</style>\n<table border=\"1\" class=\"dataframe\">\n  <thead>\n    <tr style=\"text-align: right;\">\n      <th></th>\n      <th>id</th>\n      <th>time</th>\n      <th>group</th>\n      <th>pain_avg</th>\n      <th>bpi_intensity</th>\n      <th>bpi_interference</th>\n      <th>odi</th>\n      <th>promis_dep</th>\n      <th>promis_anger</th>\n      <th>promis_anxiety</th>\n      <th>...</th>\n      <th>employment_status</th>\n      <th>exercise</th>\n      <th>handedness</th>\n      <th>sses</th>\n      <th>married_or_living_as_marri</th>\n      <th>age</th>\n      <th>weight</th>\n      <th>gender</th>\n      <th>backpain_length</th>\n      <th>is_patient</th>\n    </tr>\n  </thead>\n  <tbody>\n    <tr>\n      <th>count</th>\n      <td>341.000000</td>\n      <td>341.000000</td>\n      <td>286.000000</td>\n      <td>340.000000</td>\n      <td>340.000000</td>\n      <td>340.000000</td>\n      <td>340.000000</td>\n      <td>340.000000</td>\n      <td>340.000000</td>\n      <td>339.000000</td>\n      <td>...</td>\n      <td>340.000000</td>\n      <td>339.000000</td>\n      <td>339.000000</td>\n      <td>339.000000</td>\n      <td>340.000000</td>\n      <td>340.000000</td>\n      <td>340.000000</td>\n      <td>340.000000</td>\n      <td>286.000000</td>\n      <td>341.000000</td>\n    </tr>\n    <tr>\n      <th>mean</th>\n      <td>1967.307918</td>\n      <td>1.395894</td>\n      <td>2.010490</td>\n      <td>2.738235</td>\n      <td>2.821324</td>\n      <td>2.198319</td>\n      <td>16.982353</td>\n      <td>12.455882</td>\n      <td>10.367647</td>\n      <td>14.474926</td>\n      <td>...</td>\n      <td>1.626471</td>\n      <td>3.253687</td>\n      <td>1.185841</td>\n      <td>6.654867</td>\n      <td>0.535294</td>\n      <td>41.425206</td>\n      <td>162.688235</td>\n      <td>1.532353</td>\n      <td>10.022552</td>\n      <td>0.841642</td>\n    </tr>\n    <tr>\n      <th>std</th>\n      <td>3090.258322</td>\n      <td>0.489761</td>\n      <td>0.818575</td>\n      <td>1.868622</td>\n      <td>1.737117</td>\n      <td>1.939559</td>\n      <td>12.313014</td>\n      <td>4.679819</td>\n      <td>3.771123</td>\n      <td>6.192317</td>\n      <td>...</td>\n      <td>0.793710</td>\n      <td>0.961050</td>\n      <td>0.465661</td>\n      <td>1.769749</td>\n      <td>0.499488</td>\n      <td>15.411393</td>\n      <td>33.067596</td>\n      <td>0.499688</td>\n      <td>8.835732</td>\n      <td>0.365613</td>\n    </tr>\n    <tr>\n      <th>min</th>\n      <td>12.000000</td>\n      <td>1.000000</td>\n      <td>1.000000</td>\n      <td>0.000000</td>\n      <td>0.000000</td>\n      <td>0.000000</td>\n      <td>0.000000</td>\n      <td>8.000000</td>\n      <td>5.000000</td>\n      <td>8.000000</td>\n      <td>...</td>\n      <td>1.000000</td>\n      <td>1.000000</td>\n      <td>1.000000</td>\n      <td>1.000000</td>\n      <td>0.000000</td>\n      <td>19.608890</td>\n      <td>98.000000</td>\n      <td>1.000000</td>\n      <td>0.500000</td>\n      <td>0.000000</td>\n    </tr>\n    <tr>\n      <th>25%</th>\n      <td>324.000000</td>\n      <td>1.000000</td>\n      <td>1.000000</td>\n      <td>1.000000</td>\n      <td>1.250000</td>\n      <td>0.571429</td>\n      <td>8.000000</td>\n      <td>9.000000</td>\n      <td>8.000000</td>\n      <td>10.000000</td>\n      <td>...</td>\n      <td>1.000000</td>\n      <td>3.000000</td>\n      <td>1.000000</td>\n      <td>6.000000</td>\n      <td>0.000000</td>\n      <td>27.000000</td>\n      <td>135.000000</td>\n      <td>1.000000</td>\n      <td>4.000000</td>\n      <td>1.000000</td>\n    </tr>\n    <tr>\n      <th>50%</th>\n      <td>791.000000</td>\n      <td>1.000000</td>\n      <td>2.000000</td>\n      <td>3.000000</td>\n      <td>3.000000</td>\n      <td>1.857143</td>\n      <td>16.000000</td>\n      <td>11.000000</td>\n      <td>10.000000</td>\n      <td>12.000000</td>\n      <td>...</td>\n      <td>1.000000</td>\n      <td>3.000000</td>\n      <td>1.000000</td>\n      <td>7.000000</td>\n      <td>1.000000</td>\n      <td>39.000000</td>\n      <td>160.000000</td>\n      <td>2.000000</td>\n      <td>7.000000</td>\n      <td>1.000000</td>\n    </tr>\n    <tr>\n      <th>75%</th>\n      <td>1159.000000</td>\n      <td>2.000000</td>\n      <td>3.000000</td>\n      <td>4.000000</td>\n      <td>4.000000</td>\n      <td>3.285714</td>\n      <td>24.000000</td>\n      <td>15.000000</td>\n      <td>13.000000</td>\n      <td>18.000000</td>\n      <td>...</td>\n      <td>2.000000</td>\n      <td>4.000000</td>\n      <td>1.000000</td>\n      <td>8.000000</td>\n      <td>1.000000</td>\n      <td>56.000000</td>\n      <td>180.000000</td>\n      <td>2.000000</td>\n      <td>15.000000</td>\n      <td>1.000000</td>\n    </tr>\n    <tr>\n      <th>max</th>\n      <td>9055.000000</td>\n      <td>2.000000</td>\n      <td>3.000000</td>\n      <td>7.000000</td>\n      <td>7.250000</td>\n      <td>8.714286</td>\n      <td>64.000000</td>\n      <td>32.000000</td>\n      <td>24.000000</td>\n      <td>40.000000</td>\n      <td>...</td>\n      <td>3.000000</td>\n      <td>5.000000</td>\n      <td>3.000000</td>\n      <td>10.000000</td>\n      <td>1.000000</td>\n      <td>70.000000</td>\n      <td>255.000000</td>\n      <td>2.000000</td>\n      <td>40.000000</td>\n      <td>1.000000</td>\n    </tr>\n  </tbody>\n</table>\n<p>8 rows × 34 columns</p>\n</div>"
     },
     "execution_count": 10,
     "metadata": {},
     "output_type": "execute_result"
    }
   ],
   "source": [
    "# get descriptive for all variables (columns)\n",
    "data.describe()"
   ],
   "metadata": {
    "collapsed": false,
    "ExecuteTime": {
     "end_time": "2023-09-21T14:18:31.986671Z",
     "start_time": "2023-09-21T14:18:31.713648Z"
    }
   },
   "id": "934fed7b2db8e17e"
  },
  {
   "cell_type": "code",
   "execution_count": 9,
   "outputs": [
    {
     "data": {
      "text/plain": "               id                                                             \\\n            count         mean         std     min      25%     50%      75%   \nis_patient                                                                     \n0            54.0  9027.907407   16.156392  9001.0  9014.25  9027.5  9041.75   \n1           287.0   638.832753  411.209107    12.0   224.50   672.0  1028.00   \n\n                     time            ... gender      backpain_length  \\\n               max  count      mean  ...    75%  max           count   \nis_patient                           ...                               \n0           9055.0   54.0  1.000000  ...    2.0  2.0             0.0   \n1           1319.0  287.0  1.470383  ...    2.0  2.0           286.0   \n\n                                                            \n                 mean       std  min  25%  50%   75%   max  \nis_patient                                                  \n0                 NaN       NaN  NaN  NaN  NaN   NaN   NaN  \n1           10.022552  8.835732  0.5  4.0  7.0  15.0  40.0  \n\n[2 rows x 264 columns]",
      "text/html": "<div>\n<style scoped>\n    .dataframe tbody tr th:only-of-type {\n        vertical-align: middle;\n    }\n\n    .dataframe tbody tr th {\n        vertical-align: top;\n    }\n\n    .dataframe thead tr th {\n        text-align: left;\n    }\n\n    .dataframe thead tr:last-of-type th {\n        text-align: right;\n    }\n</style>\n<table border=\"1\" class=\"dataframe\">\n  <thead>\n    <tr>\n      <th></th>\n      <th colspan=\"8\" halign=\"left\">id</th>\n      <th colspan=\"2\" halign=\"left\">time</th>\n      <th>...</th>\n      <th colspan=\"2\" halign=\"left\">gender</th>\n      <th colspan=\"8\" halign=\"left\">backpain_length</th>\n    </tr>\n    <tr>\n      <th></th>\n      <th>count</th>\n      <th>mean</th>\n      <th>std</th>\n      <th>min</th>\n      <th>25%</th>\n      <th>50%</th>\n      <th>75%</th>\n      <th>max</th>\n      <th>count</th>\n      <th>mean</th>\n      <th>...</th>\n      <th>75%</th>\n      <th>max</th>\n      <th>count</th>\n      <th>mean</th>\n      <th>std</th>\n      <th>min</th>\n      <th>25%</th>\n      <th>50%</th>\n      <th>75%</th>\n      <th>max</th>\n    </tr>\n    <tr>\n      <th>is_patient</th>\n      <th></th>\n      <th></th>\n      <th></th>\n      <th></th>\n      <th></th>\n      <th></th>\n      <th></th>\n      <th></th>\n      <th></th>\n      <th></th>\n      <th></th>\n      <th></th>\n      <th></th>\n      <th></th>\n      <th></th>\n      <th></th>\n      <th></th>\n      <th></th>\n      <th></th>\n      <th></th>\n      <th></th>\n    </tr>\n  </thead>\n  <tbody>\n    <tr>\n      <th>0</th>\n      <td>54.0</td>\n      <td>9027.907407</td>\n      <td>16.156392</td>\n      <td>9001.0</td>\n      <td>9014.25</td>\n      <td>9027.5</td>\n      <td>9041.75</td>\n      <td>9055.0</td>\n      <td>54.0</td>\n      <td>1.000000</td>\n      <td>...</td>\n      <td>2.0</td>\n      <td>2.0</td>\n      <td>0.0</td>\n      <td>NaN</td>\n      <td>NaN</td>\n      <td>NaN</td>\n      <td>NaN</td>\n      <td>NaN</td>\n      <td>NaN</td>\n      <td>NaN</td>\n    </tr>\n    <tr>\n      <th>1</th>\n      <td>287.0</td>\n      <td>638.832753</td>\n      <td>411.209107</td>\n      <td>12.0</td>\n      <td>224.50</td>\n      <td>672.0</td>\n      <td>1028.00</td>\n      <td>1319.0</td>\n      <td>287.0</td>\n      <td>1.470383</td>\n      <td>...</td>\n      <td>2.0</td>\n      <td>2.0</td>\n      <td>286.0</td>\n      <td>10.022552</td>\n      <td>8.835732</td>\n      <td>0.5</td>\n      <td>4.0</td>\n      <td>7.0</td>\n      <td>15.0</td>\n      <td>40.0</td>\n    </tr>\n  </tbody>\n</table>\n<p>2 rows × 264 columns</p>\n</div>"
     },
     "execution_count": 9,
     "metadata": {},
     "output_type": "execute_result"
    }
   ],
   "source": [
    "# get descriptive statistics for the two groups (0 and 1)\n",
    "data.groupby('is_patient').describe()"
   ],
   "metadata": {
    "collapsed": false,
    "ExecuteTime": {
     "start_time": "2023-09-21T14:18:29.694671Z"
    }
   },
   "id": "64a727318b5e76cb"
  },
  {
   "cell_type": "code",
   "execution_count": 23,
   "outputs": [
    {
     "data": {
      "text/plain": "       id  time  group  bpi_intensity  gender  is_patient\n0      12     1    3.0           2.50     1.0           1\n1      12     2    3.0           2.75     1.0           1\n2      14     1    3.0           2.50     2.0           1\n3      14     2    3.0           2.00     2.0           1\n4      15     1    3.0           2.25     1.0           1\n..    ...   ...    ...            ...     ...         ...\n336  9051     1    NaN           0.25     2.0           0\n337  9052     1    NaN           0.75     2.0           0\n338  9053     1    NaN           1.00     2.0           0\n339  9054     1    NaN           0.00     2.0           0\n340  9055     1    NaN           0.50     2.0           0\n\n[341 rows x 6 columns]",
      "text/html": "<div>\n<style scoped>\n    .dataframe tbody tr th:only-of-type {\n        vertical-align: middle;\n    }\n\n    .dataframe tbody tr th {\n        vertical-align: top;\n    }\n\n    .dataframe thead th {\n        text-align: right;\n    }\n</style>\n<table border=\"1\" class=\"dataframe\">\n  <thead>\n    <tr style=\"text-align: right;\">\n      <th></th>\n      <th>id</th>\n      <th>time</th>\n      <th>group</th>\n      <th>bpi_intensity</th>\n      <th>gender</th>\n      <th>is_patient</th>\n    </tr>\n  </thead>\n  <tbody>\n    <tr>\n      <th>0</th>\n      <td>12</td>\n      <td>1</td>\n      <td>3.0</td>\n      <td>2.50</td>\n      <td>1.0</td>\n      <td>1</td>\n    </tr>\n    <tr>\n      <th>1</th>\n      <td>12</td>\n      <td>2</td>\n      <td>3.0</td>\n      <td>2.75</td>\n      <td>1.0</td>\n      <td>1</td>\n    </tr>\n    <tr>\n      <th>2</th>\n      <td>14</td>\n      <td>1</td>\n      <td>3.0</td>\n      <td>2.50</td>\n      <td>2.0</td>\n      <td>1</td>\n    </tr>\n    <tr>\n      <th>3</th>\n      <td>14</td>\n      <td>2</td>\n      <td>3.0</td>\n      <td>2.00</td>\n      <td>2.0</td>\n      <td>1</td>\n    </tr>\n    <tr>\n      <th>4</th>\n      <td>15</td>\n      <td>1</td>\n      <td>3.0</td>\n      <td>2.25</td>\n      <td>1.0</td>\n      <td>1</td>\n    </tr>\n    <tr>\n      <th>...</th>\n      <td>...</td>\n      <td>...</td>\n      <td>...</td>\n      <td>...</td>\n      <td>...</td>\n      <td>...</td>\n    </tr>\n    <tr>\n      <th>336</th>\n      <td>9051</td>\n      <td>1</td>\n      <td>NaN</td>\n      <td>0.25</td>\n      <td>2.0</td>\n      <td>0</td>\n    </tr>\n    <tr>\n      <th>337</th>\n      <td>9052</td>\n      <td>1</td>\n      <td>NaN</td>\n      <td>0.75</td>\n      <td>2.0</td>\n      <td>0</td>\n    </tr>\n    <tr>\n      <th>338</th>\n      <td>9053</td>\n      <td>1</td>\n      <td>NaN</td>\n      <td>1.00</td>\n      <td>2.0</td>\n      <td>0</td>\n    </tr>\n    <tr>\n      <th>339</th>\n      <td>9054</td>\n      <td>1</td>\n      <td>NaN</td>\n      <td>0.00</td>\n      <td>2.0</td>\n      <td>0</td>\n    </tr>\n    <tr>\n      <th>340</th>\n      <td>9055</td>\n      <td>1</td>\n      <td>NaN</td>\n      <td>0.50</td>\n      <td>2.0</td>\n      <td>0</td>\n    </tr>\n  </tbody>\n</table>\n<p>341 rows × 6 columns</p>\n</div>"
     },
     "execution_count": 23,
     "metadata": {},
     "output_type": "execute_result"
    }
   ],
   "source": [
    "# subset to variables of interest\n",
    "backpain_stacked = data[['id', 'time', 'group', 'bpi_intensity', 'gender', 'is_patient']]\n",
    "backpain_stacked"
   ],
   "metadata": {
    "collapsed": false,
    "ExecuteTime": {
     "end_time": "2023-09-21T17:30:07.410871Z",
     "start_time": "2023-09-21T17:30:07.348329Z"
    }
   },
   "id": "30ec477db38b998f"
  },
  {
   "cell_type": "code",
   "execution_count": 25,
   "outputs": [
    {
     "data": {
      "text/plain": "time     1     2\nid              \n12    2.50  2.75\n14    2.50  2.00\n15    2.25  2.75\n18    4.50  2.25\n23    2.50  2.25\n...    ...   ...\n9051  0.25   NaN\n9052  0.75   NaN\n9053  1.00   NaN\n9054  0.00   NaN\n9055  0.50   NaN\n\n[206 rows x 2 columns]",
      "text/html": "<div>\n<style scoped>\n    .dataframe tbody tr th:only-of-type {\n        vertical-align: middle;\n    }\n\n    .dataframe tbody tr th {\n        vertical-align: top;\n    }\n\n    .dataframe thead th {\n        text-align: right;\n    }\n</style>\n<table border=\"1\" class=\"dataframe\">\n  <thead>\n    <tr style=\"text-align: right;\">\n      <th>time</th>\n      <th>1</th>\n      <th>2</th>\n    </tr>\n    <tr>\n      <th>id</th>\n      <th></th>\n      <th></th>\n    </tr>\n  </thead>\n  <tbody>\n    <tr>\n      <th>12</th>\n      <td>2.50</td>\n      <td>2.75</td>\n    </tr>\n    <tr>\n      <th>14</th>\n      <td>2.50</td>\n      <td>2.00</td>\n    </tr>\n    <tr>\n      <th>15</th>\n      <td>2.25</td>\n      <td>2.75</td>\n    </tr>\n    <tr>\n      <th>18</th>\n      <td>4.50</td>\n      <td>2.25</td>\n    </tr>\n    <tr>\n      <th>23</th>\n      <td>2.50</td>\n      <td>2.25</td>\n    </tr>\n    <tr>\n      <th>...</th>\n      <td>...</td>\n      <td>...</td>\n    </tr>\n    <tr>\n      <th>9051</th>\n      <td>0.25</td>\n      <td>NaN</td>\n    </tr>\n    <tr>\n      <th>9052</th>\n      <td>0.75</td>\n      <td>NaN</td>\n    </tr>\n    <tr>\n      <th>9053</th>\n      <td>1.00</td>\n      <td>NaN</td>\n    </tr>\n    <tr>\n      <th>9054</th>\n      <td>0.00</td>\n      <td>NaN</td>\n    </tr>\n    <tr>\n      <th>9055</th>\n      <td>0.50</td>\n      <td>NaN</td>\n    </tr>\n  </tbody>\n</table>\n<p>206 rows × 2 columns</p>\n</div>"
     },
     "execution_count": 25,
     "metadata": {},
     "output_type": "execute_result"
    }
   ],
   "source": [
    "# tabulate the backpain values. Columsn '1' and '2' represent time one and two\n",
    "backpain_tab = backpain_stacked.pivot(index='id', columns='time', values='bpi_intensity')\n",
    "backpain_tab"
   ],
   "metadata": {
    "collapsed": false,
    "ExecuteTime": {
     "end_time": "2023-09-21T17:31:42.692357Z",
     "start_time": "2023-09-21T17:31:42.622470Z"
    }
   },
   "id": "9c50bc961b81aaad"
  },
  {
   "cell_type": "code",
   "execution_count": 33,
   "outputs": [
    {
     "data": {
      "text/plain": "       id     1     2  group  bpi_intensity  gender  is_patient\n0      12  2.50  2.75    3.0           2.50     1.0           1\n2      14  2.50  2.00    3.0           2.50     2.0           1\n4      15  2.25  2.75    3.0           2.25     1.0           1\n6      18  4.50  2.25    2.0           4.50     1.0           1\n8      23  2.50  2.25    2.0           2.50     2.0           1\n..    ...   ...   ...    ...            ...     ...         ...\n332  9047  0.25   NaN    NaN           0.25     2.0           0\n334  9049  1.25   NaN    NaN           1.25     1.0           0\n336  9051  0.25   NaN    NaN           0.25     2.0           0\n338  9053  1.00   NaN    NaN           1.00     2.0           0\n340  9055  0.50   NaN    NaN           0.50     2.0           0\n\n[171 rows x 7 columns]",
      "text/html": "<div>\n<style scoped>\n    .dataframe tbody tr th:only-of-type {\n        vertical-align: middle;\n    }\n\n    .dataframe tbody tr th {\n        vertical-align: top;\n    }\n\n    .dataframe thead th {\n        text-align: right;\n    }\n</style>\n<table border=\"1\" class=\"dataframe\">\n  <thead>\n    <tr style=\"text-align: right;\">\n      <th></th>\n      <th>id</th>\n      <th>1</th>\n      <th>2</th>\n      <th>group</th>\n      <th>bpi_intensity</th>\n      <th>gender</th>\n      <th>is_patient</th>\n    </tr>\n  </thead>\n  <tbody>\n    <tr>\n      <th>0</th>\n      <td>12</td>\n      <td>2.50</td>\n      <td>2.75</td>\n      <td>3.0</td>\n      <td>2.50</td>\n      <td>1.0</td>\n      <td>1</td>\n    </tr>\n    <tr>\n      <th>2</th>\n      <td>14</td>\n      <td>2.50</td>\n      <td>2.00</td>\n      <td>3.0</td>\n      <td>2.50</td>\n      <td>2.0</td>\n      <td>1</td>\n    </tr>\n    <tr>\n      <th>4</th>\n      <td>15</td>\n      <td>2.25</td>\n      <td>2.75</td>\n      <td>3.0</td>\n      <td>2.25</td>\n      <td>1.0</td>\n      <td>1</td>\n    </tr>\n    <tr>\n      <th>6</th>\n      <td>18</td>\n      <td>4.50</td>\n      <td>2.25</td>\n      <td>2.0</td>\n      <td>4.50</td>\n      <td>1.0</td>\n      <td>1</td>\n    </tr>\n    <tr>\n      <th>8</th>\n      <td>23</td>\n      <td>2.50</td>\n      <td>2.25</td>\n      <td>2.0</td>\n      <td>2.50</td>\n      <td>2.0</td>\n      <td>1</td>\n    </tr>\n    <tr>\n      <th>...</th>\n      <td>...</td>\n      <td>...</td>\n      <td>...</td>\n      <td>...</td>\n      <td>...</td>\n      <td>...</td>\n      <td>...</td>\n    </tr>\n    <tr>\n      <th>332</th>\n      <td>9047</td>\n      <td>0.25</td>\n      <td>NaN</td>\n      <td>NaN</td>\n      <td>0.25</td>\n      <td>2.0</td>\n      <td>0</td>\n    </tr>\n    <tr>\n      <th>334</th>\n      <td>9049</td>\n      <td>1.25</td>\n      <td>NaN</td>\n      <td>NaN</td>\n      <td>1.25</td>\n      <td>1.0</td>\n      <td>0</td>\n    </tr>\n    <tr>\n      <th>336</th>\n      <td>9051</td>\n      <td>0.25</td>\n      <td>NaN</td>\n      <td>NaN</td>\n      <td>0.25</td>\n      <td>2.0</td>\n      <td>0</td>\n    </tr>\n    <tr>\n      <th>338</th>\n      <td>9053</td>\n      <td>1.00</td>\n      <td>NaN</td>\n      <td>NaN</td>\n      <td>1.00</td>\n      <td>2.0</td>\n      <td>0</td>\n    </tr>\n    <tr>\n      <th>340</th>\n      <td>9055</td>\n      <td>0.50</td>\n      <td>NaN</td>\n      <td>NaN</td>\n      <td>0.50</td>\n      <td>2.0</td>\n      <td>0</td>\n    </tr>\n  </tbody>\n</table>\n<p>171 rows × 7 columns</p>\n</div>"
     },
     "execution_count": 33,
     "metadata": {},
     "output_type": "execute_result"
    }
   ],
   "source": [
    "# merge backpain_tab with the orginial data according to id\n",
    "# this automatically drops subjects who don't have both time points\n",
    "backpain = pd.merge(backpain_tab, backpain_stacked, on='id').iloc[::2].drop('time', axis=1)\n",
    "backpain"
   ],
   "metadata": {
    "collapsed": false,
    "ExecuteTime": {
     "end_time": "2023-09-21T17:38:15.925295Z",
     "start_time": "2023-09-21T17:38:15.889995Z"
    }
   },
   "id": "30743ed54dd7d770"
  },
  {
   "cell_type": "code",
   "execution_count": null,
   "outputs": [],
   "source": [],
   "metadata": {
    "collapsed": false
   },
   "id": "e3f06241f4e9c77"
  }
 ],
 "metadata": {
  "kernelspec": {
   "display_name": "Python 3",
   "language": "python",
   "name": "python3"
  },
  "language_info": {
   "codemirror_mode": {
    "name": "ipython",
    "version": 2
   },
   "file_extension": ".py",
   "mimetype": "text/x-python",
   "name": "python",
   "nbconvert_exporter": "python",
   "pygments_lexer": "ipython2",
   "version": "2.7.6"
  }
 },
 "nbformat": 4,
 "nbformat_minor": 5
}
