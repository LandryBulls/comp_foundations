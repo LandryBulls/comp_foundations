{
 "cells": [
  {
   "cell_type": "markdown",
   "id": "65af94ec80c52dd9",
   "metadata": {
    "collapsed": false
   },
   "source": [
    "# Homework 4: Extending the GLM to include the following:\n",
    "1. Calculate t-tests for each $beta$\n",
    "2. Calculate an F-statistic, df, and P-value for the overall model $R^2$, comparing the full model to an intercept-only model. \n",
    "3. Add the ability to perform t-tests for a set of contrasts.\n",
    "4. Make your script into a function that takes in a design matrix $X$, data $y$, and optional contrast matrix $C$. "
   ]
  },
  {
   "cell_type": "markdown",
   "id": "e92d3c6fe4d1cc8a",
   "metadata": {
    "collapsed": false
   },
   "source": [
    "Pulling in functions from last assignment"
   ]
  },
  {
   "cell_type": "code",
   "execution_count": 1,
   "id": "f1b04a4bc9f21be1",
   "metadata": {
    "ExecuteTime": {
     "end_time": "2023-09-28T18:26:52.799455Z",
     "start_time": "2023-09-28T18:26:52.794082Z"
    },
    "collapsed": false
   },
   "outputs": [],
   "source": [
    "import numpy as np\n",
    "import pandas as pd\n",
    "import statsmodels.api as sm"
   ]
  },
  {
   "cell_type": "code",
   "execution_count": 2,
   "id": "86dc5ccb33aa64ed",
   "metadata": {
    "ExecuteTime": {
     "end_time": "2023-09-28T18:26:53.571925Z",
     "start_time": "2023-09-28T18:26:53.552503Z"
    },
    "collapsed": false
   },
   "outputs": [],
   "source": [
    "# estimate the beta coefficients\n",
    "def get_beta_estimates(X, y):\n",
    "    betas = np.linalg.inv(X.T @ X) @ np.dot(X.T, y)\n",
    "    return betas"
   ]
  },
  {
   "cell_type": "code",
   "execution_count": 3,
   "id": "4ebee8f3396b75ff",
   "metadata": {
    "ExecuteTime": {
     "end_time": "2023-09-28T18:26:54.030145Z",
     "start_time": "2023-09-28T18:26:54.023461Z"
    },
    "collapsed": false
   },
   "outputs": [],
   "source": [
    "# estimate the covariance of beta hat\n",
    "def cov_beta_hat(X, y, B):\n",
    "    S = (y - (X @ B)).T @ (y - (X @ B))\n",
    "    n = X.shape[0]\n",
    "    return S/(n-1)"
   ]
  },
  {
   "cell_type": "code",
   "execution_count": 4,
   "id": "6e3f2a35881e3f78",
   "metadata": {
    "ExecuteTime": {
     "end_time": "2023-09-28T18:26:54.463200Z",
     "start_time": "2023-09-28T18:26:54.442717Z"
    },
    "collapsed": false
   },
   "outputs": [],
   "source": [
    "# estimate the sum of squared errors\n",
    "def SS_tot(y):\n",
    "    return np.dot((y - np.mean(y)).T, (y - np.mean(y)))"
   ]
  },
  {
   "cell_type": "code",
   "execution_count": 79,
   "id": "cf57cb8e7f9f6d32",
   "metadata": {
    "ExecuteTime": {
     "end_time": "2023-09-28T18:26:55.239550Z",
     "start_time": "2023-09-28T18:26:55.221456Z"
    },
    "collapsed": false
   },
   "outputs": [],
   "source": [
    "# estimate the sum of squared residuals\n",
    "def SS_res(X, y, B):\n",
    "    if not isinstance(B, np.ndarray):\n",
    "        B = np.array([B])\n",
    "    return np.dot((y - np.dot(X, B)).T, (y - np.dot(X, B)))"
   ]
  },
  {
   "cell_type": "code",
   "execution_count": 80,
   "id": "65da185633d7b74a",
   "metadata": {
    "ExecuteTime": {
     "end_time": "2023-09-28T18:26:55.756209Z",
     "start_time": "2023-09-28T18:26:55.740910Z"
    },
    "collapsed": false
   },
   "outputs": [],
   "source": [
    "# estimate the R squared\n",
    "def R_squared(X, y, B):\n",
    "    return (SS_tot(y) - SS_res(X, y, B))/SS_tot(y)"
   ]
  },
  {
   "cell_type": "code",
   "execution_count": 81,
   "id": "831f3d0bbc388d45",
   "metadata": {
    "ExecuteTime": {
     "end_time": "2023-09-28T18:26:56.142104Z",
     "start_time": "2023-09-28T18:26:56.126056Z"
    },
    "collapsed": false
   },
   "outputs": [],
   "source": [
    "# put it all together\n",
    "def GLM(X, y):\n",
    "    B = get_beta_estimates(X, y)\n",
    "    S = SS_res(X, y, B)\n",
    "    n = X.shape[0]\n",
    "    cov_beta = cov_beta_hat(X, y, B)\n",
    "    R2 = R_squared(X, y, B)\n",
    "    return B, S, cov_beta, R2"
   ]
  },
  {
   "cell_type": "code",
   "execution_count": 110,
   "id": "15241664fc0acc06",
   "metadata": {
    "ExecuteTime": {
     "end_time": "2023-09-28T18:27:06.039716Z",
     "start_time": "2023-09-28T18:27:05.997588Z"
    },
    "collapsed": false
   },
   "outputs": [
    {
     "data": {
      "text/html": [
       "<div>\n",
       "<style scoped>\n",
       "    .dataframe tbody tr th:only-of-type {\n",
       "        vertical-align: middle;\n",
       "    }\n",
       "\n",
       "    .dataframe tbody tr th {\n",
       "        vertical-align: top;\n",
       "    }\n",
       "\n",
       "    .dataframe thead th {\n",
       "        text-align: right;\n",
       "    }\n",
       "</style>\n",
       "<table border=\"1\" class=\"dataframe\">\n",
       "  <thead>\n",
       "    <tr style=\"text-align: right;\">\n",
       "      <th></th>\n",
       "      <th>Unnamed: 0</th>\n",
       "      <th>id</th>\n",
       "      <th>1</th>\n",
       "      <th>2</th>\n",
       "      <th>group</th>\n",
       "      <th>bpi_intensity</th>\n",
       "      <th>gender</th>\n",
       "      <th>is_patient</th>\n",
       "      <th>pain_diff</th>\n",
       "    </tr>\n",
       "  </thead>\n",
       "  <tbody>\n",
       "    <tr>\n",
       "      <th>0</th>\n",
       "      <td>0</td>\n",
       "      <td>12</td>\n",
       "      <td>2.50</td>\n",
       "      <td>2.75</td>\n",
       "      <td>3.0</td>\n",
       "      <td>2.50</td>\n",
       "      <td>1.0</td>\n",
       "      <td>1</td>\n",
       "      <td>0.25</td>\n",
       "    </tr>\n",
       "    <tr>\n",
       "      <th>1</th>\n",
       "      <td>2</td>\n",
       "      <td>14</td>\n",
       "      <td>2.50</td>\n",
       "      <td>2.00</td>\n",
       "      <td>3.0</td>\n",
       "      <td>2.50</td>\n",
       "      <td>2.0</td>\n",
       "      <td>1</td>\n",
       "      <td>-0.50</td>\n",
       "    </tr>\n",
       "    <tr>\n",
       "      <th>2</th>\n",
       "      <td>4</td>\n",
       "      <td>15</td>\n",
       "      <td>2.25</td>\n",
       "      <td>2.75</td>\n",
       "      <td>3.0</td>\n",
       "      <td>2.25</td>\n",
       "      <td>1.0</td>\n",
       "      <td>1</td>\n",
       "      <td>0.50</td>\n",
       "    </tr>\n",
       "    <tr>\n",
       "      <th>3</th>\n",
       "      <td>6</td>\n",
       "      <td>18</td>\n",
       "      <td>4.50</td>\n",
       "      <td>2.25</td>\n",
       "      <td>2.0</td>\n",
       "      <td>4.50</td>\n",
       "      <td>1.0</td>\n",
       "      <td>1</td>\n",
       "      <td>-2.25</td>\n",
       "    </tr>\n",
       "    <tr>\n",
       "      <th>4</th>\n",
       "      <td>8</td>\n",
       "      <td>23</td>\n",
       "      <td>2.50</td>\n",
       "      <td>2.25</td>\n",
       "      <td>2.0</td>\n",
       "      <td>2.50</td>\n",
       "      <td>2.0</td>\n",
       "      <td>1</td>\n",
       "      <td>-0.25</td>\n",
       "    </tr>\n",
       "  </tbody>\n",
       "</table>\n",
       "</div>"
      ],
      "text/plain": [
       "   Unnamed: 0  id     1     2  group  bpi_intensity  gender  is_patient  \\\n",
       "0           0  12  2.50  2.75    3.0           2.50     1.0           1   \n",
       "1           2  14  2.50  2.00    3.0           2.50     2.0           1   \n",
       "2           4  15  2.25  2.75    3.0           2.25     1.0           1   \n",
       "3           6  18  4.50  2.25    2.0           4.50     1.0           1   \n",
       "4           8  23  2.50  2.25    2.0           2.50     2.0           1   \n",
       "\n",
       "   pain_diff  \n",
       "0       0.25  \n",
       "1      -0.50  \n",
       "2       0.50  \n",
       "3      -2.25  \n",
       "4      -0.25  "
      ]
     },
     "execution_count": 110,
     "metadata": {},
     "output_type": "execute_result"
    }
   ],
   "source": [
    "backpain = pd.read_csv('../week2/backpain.csv')\n",
    "# subset to variables of interest\n",
    "var_labels = ['group', 'bpi_intensity', 'gender', 'is_patient']\n",
    "X = backpain[var_labels].to_numpy()\n",
    "y = backpain['pain_diff'].to_numpy()\n",
    "backpain.head()"
   ]
  },
  {
   "cell_type": "markdown",
   "id": "f1b5d5de64156c48",
   "metadata": {
    "collapsed": false
   },
   "source": [
    "# 1. Calculate t-tests for each $\\beta$\n",
    "\n",
    "The t-statistic for testing $\\beta$ = 0 is given by:\n",
    "$t_j = \\frac{\\hat{\\beta}_j}{\\hat{\\sigma}\\sqrt{(X^T X)^{-1}_{jj}}}$\n",
    "\n",
    "Within that function, I see that I need to calculate the following:\n",
    "1. $\\hat{\\beta}_j$ - the estimate of the beta coefficient for the jth predictor\n",
    "2. $\\hat{\\sigma}$ - the estimated standard deviation of the residuals\n",
    "3. $(X^T X)^{-1}_{jj}$ - the jth diagonal element of the inverse of the product of the design matrix and its transpose. This essentially means I am calculating the covariance matrix of the design matrix, inverting it, and then taking the jth diagonal element of that matrix (where j is the index of the predictor in the design matrix).\n",
    "        - Inside this function term, I see $X^T X$. This is the product of the design matrix and its transpose, which I know to be the covariance matrix of the design matrix. "
   ]
  },
  {
   "cell_type": "markdown",
   "id": "63eee7135f2d880c",
   "metadata": {
    "collapsed": false
   },
   "source": [
    "My understanding is that the t-statistic is the ratio of the estimated coefficient to the estimated standard deviation of the residuals. The estimated standard deviation of the residuals is the square root of the sum of squared residuals divided by the degrees of freedom. The degrees of freedom is the number of observations minus the number of predictors.\n",
    "\n",
    "So, reducing the the standard deviation of the residuals would mean that I would see less spread of the data points around the regression line. Less spread means that my beta can be smaller but still be significant. In the same vein, if I have a large spread around that line, then my beta would have to be larger to be significant.\n",
    "\n",
    "Also, adding more data points to an otherwise very noisy cloud of data points surrounding the regression line would reduce the standard deviation of the residuals. This is because the sum of squared residuals would be larger, but the degrees of freedom would also be larger. So, the ratio of the two would be smaller."
   ]
  },
  {
   "cell_type": "code",
   "execution_count": 111,
   "id": "1f62962f3d51071d",
   "metadata": {
    "ExecuteTime": {
     "end_time": "2023-09-28T18:27:10.647843Z",
     "start_time": "2023-09-28T18:27:10.627626Z"
    },
    "collapsed": false
   },
   "outputs": [],
   "source": [
    "# make a function for the estimated variance of the residuals\n",
    "def sigma_hat(X, y, B):\n",
    "    n = X.shape[0]\n",
    "    p = X.shape[1]\n",
    "    return SS_res(X, y, B)/(n-p)\n",
    "\n",
    "def t_stat(X, y, B):\n",
    "    n = X.shape[0] # number of observations\n",
    "    p = X.shape[1] # number of predictors\n",
    "    # get sigma_hat (estimated variance of residuals)\n",
    "    t = {}\n",
    "    for j, varname in enumerate(var_labels):\n",
    "        t[varname] = B[j] / (sigma_hat(X,y,B)**2 * np.sqrt(np.linalg.inv(X.T @ X)[j,j]))\n",
    "        # reminder - try replacing the * with @ to see if that changes anything.\n",
    "        \n",
    "    return t\n",
    "        \n",
    "    \"\"\"\n",
    "    This function is an algorithm. For each beta, it finds the index of the beta in the beta vector. This is provided \n",
    "    by the j term of the enumerate function in the loop. The name of the variable, `varname`, is also provided as the second\n",
    "    value of each iteration of the loop. The variable `t` is a dictionary. The key is the variable name, and the value is the\n",
    "    t-statistic for that variable (these key-value pairs are populated on each successive iteration of the loop. \n",
    "    \n",
    "    On each iteration, the t-statistic is calculated by dividing the beta estimate Bj by the product of the estimated standard \n",
    "    deviation of the residuals. \n",
    "    \n",
    "    The function returns the dictionary of t-statistics.\n",
    "    \"\"\""
   ]
  },
  {
   "cell_type": "markdown",
   "id": "4470b89e3d6da68a",
   "metadata": {
    "collapsed": false
   },
   "source": [
    "Below I'm gonna first get the betas and other values from the GLM function I wrote in the last assignment. Then I'm gonna use those values to calculate the t-statistic for each beta."
   ]
  },
  {
   "cell_type": "code",
   "execution_count": 112,
   "id": "11e41f5004ede007",
   "metadata": {
    "ExecuteTime": {
     "end_time": "2023-09-28T18:27:15.222995Z",
     "start_time": "2023-09-28T18:27:15.213394Z"
    },
    "collapsed": false
   },
   "outputs": [
    {
     "name": "stdout",
     "output_type": "stream",
     "text": [
      "group beta = : 1.0653366477226105\n",
      "bpi_intensity beta = : -0.005826644237355405\n",
      "gender beta = : -0.1962808372279472\n",
      "is_patient beta = : -3.176285499149767\n",
      "\n",
      "Sum of squared residuals:  217.2416875350979\n",
      "Covariance of beta hat:  1.621206623396253\n",
      "R squared:  0.32549541878811156\n"
     ]
    }
   ],
   "source": [
    "B, S, cov_beta, R2 = GLM(X, y)\n",
    "for i, var in enumerate(var_labels):\n",
    "    print(f'{var} beta = : {B[i]}')\n",
    "print('\\nSum of squared residuals: ', S)\n",
    "print('Covariance of beta hat: ', cov_beta)\n",
    "print('R squared: ', R2)"
   ]
  },
  {
   "cell_type": "markdown",
   "id": "c80870a6d0c4e196",
   "metadata": {
    "collapsed": false
   },
   "source": [
    "Now I'm gonna use the t_stat function I wrote above to calculate the t-statistic for each beta."
   ]
  },
  {
   "cell_type": "code",
   "execution_count": 113,
   "id": "c4d6c41a8cd14246",
   "metadata": {
    "ExecuteTime": {
     "end_time": "2023-09-27T20:14:17.716961Z",
     "start_time": "2023-09-27T20:14:17.703189Z"
    },
    "collapsed": false
   },
   "outputs": [
    {
     "name": "stdout",
     "output_type": "stream",
     "text": [
      "T-statistics:  {'group': 3.6435017708995323, 'bpi_intensity': -0.03776585604790268, 'gender': -0.4136203237019821, 'is_patient': -3.0363867561782234}\n"
     ]
    }
   ],
   "source": [
    "tvals = t_stat(X, y, B)\n",
    "print('T-statistics: ', tvals)"
   ]
  },
  {
   "cell_type": "markdown",
   "id": "646e49ad54ea4180",
   "metadata": {
    "collapsed": false
   },
   "source": [
    "Yay! Now, for sanity's sake, I'm gonna compare my t-statistics to the ones from the statsmodels package."
   ]
  },
  {
   "cell_type": "code",
   "execution_count": 114,
   "id": "8df89cff2100403",
   "metadata": {
    "ExecuteTime": {
     "end_time": "2023-09-27T20:14:23.403257Z",
     "start_time": "2023-09-27T20:14:23.377616Z"
    },
    "collapsed": false
   },
   "outputs": [
    {
     "name": "stdout",
     "output_type": "stream",
     "text": [
      "                            OLS Regression Results                            \n",
      "==============================================================================\n",
      "Dep. Variable:                      y   R-squared:                       0.325\n",
      "Model:                            OLS   Adj. R-squared:                  0.310\n",
      "Method:                 Least Squares   F-statistic:                     21.07\n",
      "Date:                Fri, 13 Oct 2023   Prob (F-statistic):           3.35e-11\n",
      "Time:                        12:05:22   Log-Likelihood:                -223.67\n",
      "No. Observations:                 135   AIC:                             455.3\n",
      "Df Residuals:                     131   BIC:                             467.0\n",
      "Df Model:                           3                                         \n",
      "Covariance Type:            nonrobust                                         \n",
      "==============================================================================\n",
      "                 coef    std err          t      P>|t|      [0.025      0.975]\n",
      "------------------------------------------------------------------------------\n",
      "x1             1.0653      0.137      7.781      0.000       0.794       1.336\n",
      "x2            -0.0058      0.072     -0.081      0.936      -0.149       0.137\n",
      "x3            -0.1963      0.222     -0.883      0.379      -0.636       0.243\n",
      "const         -3.1763      0.490     -6.484      0.000      -4.145      -2.207\n",
      "==============================================================================\n",
      "Omnibus:                        8.502   Durbin-Watson:                   1.987\n",
      "Prob(Omnibus):                  0.014   Jarque-Bera (JB):                8.371\n",
      "Skew:                          -0.528   Prob(JB):                       0.0152\n",
      "Kurtosis:                       3.611   Cond. No.                         21.1\n",
      "==============================================================================\n",
      "\n",
      "Notes:\n",
      "[1] Standard Errors assume that the covariance matrix of the errors is correctly specified.\n",
      "t-values: [ 7.78084552 -0.08065051 -0.88330294 -6.48432683]\n",
      "p-values for each t-statistic: [1.90028910e-12 9.35842976e-01 3.78690737e-01 1.66591608e-09]\n"
     ]
    }
   ],
   "source": [
    "X_const = sm.add_constant(X)\n",
    "model = sm.OLS(y, X_const)\n",
    "results = model.fit()\n",
    "print(results.summary()) \n",
    "print(f't-values: {results.tvalues}')\n",
    "# the p-values are in the last column of the summary table\n",
    "print(f'p-values for each t-statistic: {results.pvalues}')"
   ]
  },
  {
   "cell_type": "code",
   "execution_count": 116,
   "id": "8cca315d",
   "metadata": {},
   "outputs": [
    {
     "name": "stdout",
     "output_type": "stream",
     "text": [
      "group beta coefficient = 1.0653366477226107\n",
      "bpi_intensity beta coefficient = -0.00582664423735382\n",
      "gender beta coefficient = -0.19628083722794493\n",
      "is_patient beta coefficient = -3.1762854991497687\n"
     ]
    }
   ],
   "source": [
    "for i, label in enumerate(var_labels):\n",
    "    print(f'{label} beta coefficient = {results.params[i]}')"
   ]
  },
  {
   "cell_type": "markdown",
   "id": "b2ed8e5a996f0a97",
   "metadata": {
    "collapsed": false
   },
   "source": [
    "Whoops, looks like I made a mistake. My hand-calculated t-values are much smaller than the ones from the statsmodels package. However, they are all smaller by the same proportion. So I'm close, but clearly something is wrong with how I calculated them. \n",
    "\n",
    "Again, here's the formula for the t-statistic:\n",
    "$t_j = \\frac{\\hat{\\beta}_j}{\\hat{\\sigma}\\sqrt{(X^T X)^{-1}_{jj}}}$\n",
    "\n",
    "And here's my code:\n",
    "```\n",
    "def t_stat(X, y, B):\n",
    "    n = X.shape[0] # number of observations\n",
    "    p = X.shape[1] # number of predictors\n",
    "    # get sigma_hat (estimated variance of residuals)\n",
    "    t = {}\n",
    "    for j, varname in enumerate(var_labels):\n",
    "        t[varname] = B[j] / (sigma_hat(X,y,B)**2 * np.sqrt(np.linalg.inv(X.T @ X)[j,j]))\n",
    "        # reminder - try replacing the * with @ to see if that changes anything.\n",
    "        \n",
    "    return t\n",
    "```"
   ]
  },
  {
   "cell_type": "markdown",
   "id": "9f643c57463c469",
   "metadata": {
    "collapsed": false
   },
   "source": [
    "The problem is that I'm squaring the estimated standard deviation of the residuals in `sigma_hat(X,y,B)**2`, where I should be taking the square root! This is because my function for $\\hat\\sigma$ actually returns the sum of squared residuals divided by the degrees of freedom. So, I need to take the square root of that value to get the estimated standard deviation of the residuals (perhaps I need to rename the function). "
   ]
  },
  {
   "cell_type": "code",
   "execution_count": 117,
   "id": "c19a52345ff726e7",
   "metadata": {
    "ExecuteTime": {
     "end_time": "2023-09-27T20:27:29.173820Z",
     "start_time": "2023-09-27T20:27:29.158766Z"
    },
    "collapsed": false
   },
   "outputs": [],
   "source": [
    "def t_stat(X, y, B):\n",
    "    n = X.shape[0] # number of observations\n",
    "    p = X.shape[1] # number of predictors\n",
    "    # get sigma_hat (estimated variance of residuals)\n",
    "    t = {}\n",
    "    for j, varname in enumerate(var_labels):\n",
    "        ### NOW TAKE SQRT ###\n",
    "        t[varname] = B[j] / (np.sqrt(sigma_hat(X,y,B)) * np.sqrt(np.linalg.inv(X.T @ X)[j,j]))\n",
    "        \n",
    "    return t"
   ]
  },
  {
   "cell_type": "code",
   "execution_count": 118,
   "id": "f5f81951fc8672c2",
   "metadata": {
    "ExecuteTime": {
     "end_time": "2023-09-27T20:27:29.768287Z",
     "start_time": "2023-09-27T20:27:29.755984Z"
    },
    "collapsed": false
   },
   "outputs": [
    {
     "name": "stdout",
     "output_type": "stream",
     "text": [
      "T-statistics:  {'group': 7.780845521775375, 'bpi_intensity': -0.08065051436321638, 'gender': -0.8833029447374987, 'is_patient': -6.4843268316443075}\n"
     ]
    }
   ],
   "source": [
    "tvals = t_stat(X, y, B)\n",
    "print('T-statistics: ', tvals)"
   ]
  },
  {
   "cell_type": "code",
   "execution_count": 119,
   "id": "b1cfe0b1ee8582b5",
   "metadata": {
    "ExecuteTime": {
     "end_time": "2023-09-27T20:36:47.513899Z",
     "start_time": "2023-09-27T20:36:47.502909Z"
    },
    "collapsed": false
   },
   "outputs": [],
   "source": [
    "# saving these to put in the table later\n",
    "tstats = list(tvals.values())"
   ]
  },
  {
   "cell_type": "markdown",
   "id": "f69a4489d005bb0a",
   "metadata": {
    "collapsed": false
   },
   "source": [
    "Great - now I have the right t-values. Next I'm going to calculate the p-values for each t-statistic.\n",
    "\n",
    "From the book:\n",
    "The P-value comes from a t-distribution, which is a Normal (Gaussian) distribution adjusted for the fact that there are not really $n$ independent observations, and thus not really $n$ error df, if we have estimated some parameters ($p$ parameters, to be precise) and removed them when estimating the residual error. The t-statistic, $t_j$, can be compared to a t-distribution with $n - p$ degrees of freedom to determine the significance of the $j$-th predictor.\n",
    "\n",
    "So to get p-values I really need to generate a null <em>distribution</em>, rather than a singular value. I think the best way to do this in Python is to use pre-made functionality to generate a cumulative distribution function (CDF) for the t-distribution, and then use that to calculate the p-value for each t-statistic. I'll use the `stats` module within the scipy package, and the `t.sf` function to calculate the p-value for each t-statistic. I'll also assume we want a two-tailed distribution for now, so I'll multiply the p-value by 2.\n",
    "\n",
    "The `t.sf` function takes two arguments: the t-statistic and the degrees of freedom. It represents the survival function, which is the complement of the cumulative distribution function (CDF). "
   ]
  },
  {
   "cell_type": "code",
   "execution_count": 120,
   "id": "e66f589fbaff21e4",
   "metadata": {
    "ExecuteTime": {
     "end_time": "2023-09-27T20:42:48.389670Z",
     "start_time": "2023-09-27T20:42:48.352090Z"
    },
    "collapsed": false
   },
   "outputs": [],
   "source": [
    "from scipy import stats"
   ]
  },
  {
   "cell_type": "code",
   "execution_count": 121,
   "id": "b66245a3cd91cbc1",
   "metadata": {
    "ExecuteTime": {
     "end_time": "2023-09-27T20:43:00.549253Z",
     "start_time": "2023-09-27T20:43:00.518673Z"
    },
    "collapsed": false
   },
   "outputs": [],
   "source": [
    "# get the degrees of freedom for the full model\n",
    "n = X.shape[0]\n",
    "p = X.shape[1]\n",
    "df = n - p"
   ]
  },
  {
   "cell_type": "code",
   "execution_count": 122,
   "id": "50e5c724e4acd918",
   "metadata": {
    "ExecuteTime": {
     "end_time": "2023-09-27T20:47:57.571068Z",
     "start_time": "2023-09-27T20:47:57.554730Z"
    },
    "collapsed": false
   },
   "outputs": [
    {
     "name": "stdout",
     "output_type": "stream",
     "text": [
      "P-values:  {'group': 1.9002890971436953e-12, 'bpi_intensity': 0.9358429755813209, 'gender': 0.37869073716402013, 'is_patient': 1.6659160795132115e-09}\n"
     ]
    }
   ],
   "source": [
    "# get the p-values\n",
    "pvals = {}\n",
    "for varname, tstat in tvals.items():\n",
    "    pvals[varname] = stats.t.sf(np.abs(tstat), df)*2\n",
    "    \n",
    "# saving these for later\n",
    "pvalues = list(pvals.values())\n",
    "print('P-values: ', pvals)"
   ]
  },
  {
   "cell_type": "markdown",
   "id": "72f72921f441fc3f",
   "metadata": {
    "collapsed": false
   },
   "source": [
    "Now I'll integrate all this into a new and improved GLM function."
   ]
  },
  {
   "cell_type": "code",
   "execution_count": 123,
   "id": "a9b498acfaedecf3",
   "metadata": {
    "ExecuteTime": {
     "end_time": "2023-09-27T20:51:39.188166Z",
     "start_time": "2023-09-27T20:51:39.169811Z"
    },
    "collapsed": false
   },
   "outputs": [],
   "source": [
    "def fancy_GLM(X, y, predictor_names):\n",
    "    B, S, cov_beta, R2 = GLM(X, y)\n",
    "    tvals = t_stat(X, y, B)\n",
    "    pvals = {}\n",
    "    for varname, tstat in tvals.items():\n",
    "        pvals[varname] = stats.t.sf(np.abs(tstat), df)*2\n",
    "        \n",
    "    output = pd.DataFrame({'Predictor': predictor_names, 'Beta': B, 'T-statistic': tstats, 'P-value (two-tailed)': pvalues})\n",
    "    return output"
   ]
  },
  {
   "cell_type": "code",
   "execution_count": 124,
   "id": "56eade78bfc496ca",
   "metadata": {
    "ExecuteTime": {
     "end_time": "2023-09-27T20:51:41.342988Z",
     "start_time": "2023-09-27T20:51:41.327073Z"
    },
    "collapsed": false
   },
   "outputs": [
    {
     "data": {
      "text/html": [
       "<div>\n",
       "<style scoped>\n",
       "    .dataframe tbody tr th:only-of-type {\n",
       "        vertical-align: middle;\n",
       "    }\n",
       "\n",
       "    .dataframe tbody tr th {\n",
       "        vertical-align: top;\n",
       "    }\n",
       "\n",
       "    .dataframe thead th {\n",
       "        text-align: right;\n",
       "    }\n",
       "</style>\n",
       "<table border=\"1\" class=\"dataframe\">\n",
       "  <thead>\n",
       "    <tr style=\"text-align: right;\">\n",
       "      <th></th>\n",
       "      <th>Predictor</th>\n",
       "      <th>Beta</th>\n",
       "      <th>T-statistic</th>\n",
       "      <th>P-value (two-tailed)</th>\n",
       "    </tr>\n",
       "  </thead>\n",
       "  <tbody>\n",
       "    <tr>\n",
       "      <th>0</th>\n",
       "      <td>group</td>\n",
       "      <td>1.065337</td>\n",
       "      <td>7.780846</td>\n",
       "      <td>1.900289e-12</td>\n",
       "    </tr>\n",
       "    <tr>\n",
       "      <th>1</th>\n",
       "      <td>bpi_intensity</td>\n",
       "      <td>-0.005827</td>\n",
       "      <td>-0.080651</td>\n",
       "      <td>9.358430e-01</td>\n",
       "    </tr>\n",
       "    <tr>\n",
       "      <th>2</th>\n",
       "      <td>gender</td>\n",
       "      <td>-0.196281</td>\n",
       "      <td>-0.883303</td>\n",
       "      <td>3.786907e-01</td>\n",
       "    </tr>\n",
       "    <tr>\n",
       "      <th>3</th>\n",
       "      <td>is_patient</td>\n",
       "      <td>-3.176285</td>\n",
       "      <td>-6.484327</td>\n",
       "      <td>1.665916e-09</td>\n",
       "    </tr>\n",
       "  </tbody>\n",
       "</table>\n",
       "</div>"
      ],
      "text/plain": [
       "       Predictor      Beta  T-statistic  P-value (two-tailed)\n",
       "0          group  1.065337     7.780846          1.900289e-12\n",
       "1  bpi_intensity -0.005827    -0.080651          9.358430e-01\n",
       "2         gender -0.196281    -0.883303          3.786907e-01\n",
       "3     is_patient -3.176285    -6.484327          1.665916e-09"
      ]
     },
     "execution_count": 124,
     "metadata": {},
     "output_type": "execute_result"
    }
   ],
   "source": [
    "new_model_results = fancy_GLM(X, y, var_labels)\n",
    "new_model_results"
   ]
  },
  {
   "cell_type": "markdown",
   "id": "f75be62303c53cab",
   "metadata": {
    "collapsed": false
   },
   "source": [
    "# 2. Calculate an F-statistic, df, and P-value for the overall model $R^2$, comparing the full model to an intercept-only model.\n",
    "\n",
    "From the book:\n",
    "\n",
    "The F-test is used to compare the fits of different models. Specifically, it is used to test the hypothesis that a set of predictors has no effect on the response variable. \n",
    "\n",
    "Given:\n",
    "\n",
    " $SSR_full$ = Sum of Squared Residuals for the full model\n",
    "\n",
    " $SSR_reduced$ = Sum of Squared Residuals for a reduced model\n",
    "\n",
    " $p$ = Number of predictors in the full model\n",
    "\n",
    " $q$ = Number of predictors in the reduced model (with)\n",
    "\n",
    " $n$ = Total number of observations\n",
    "\n",
    "The F-statistic is caluclated as:\n",
    "\n",
    "\n",
    "$$F = \\frac{(SSR_{\\text{reduced}} - SSR_{\\text{full}}) / (p - q)}{SSR_{\\text{full}} / (n - p)}$$\n",
    "\n",
    "The difference between $SSR_reduced$ and $SSR_full$ is that $SSR_reduced$ is the sum of squared residuals for the reduced model, which is the model with fewer predictors. $SSR_full$ is the sum of squared residuals for the full model, which is the model with more predictors.\n"
   ]
  },
  {
   "cell_type": "code",
   "execution_count": 125,
   "id": "56ff5c7d5bd78b4f",
   "metadata": {
    "ExecuteTime": {
     "end_time": "2023-09-27T21:19:14.352755Z",
     "start_time": "2023-09-27T21:19:14.338298Z"
    },
    "collapsed": false
   },
   "outputs": [
    {
     "name": "stdout",
     "output_type": "stream",
     "text": [
      "Sum of squared residuals for intercept-only model:  322.07592592592596\n"
     ]
    }
   ],
   "source": [
    "# calculate the sum of squared residuals for the intercept-only model (i.e., the reduced model)\n",
    "X_intercept = np.ones((X.shape[0], 1)) # this is a column of ones - statsmodels can do this with sm.add_constant(X)\n",
    "B_intercept, S_intercept, cov_beta_intercept, R2_intercept = GLM(X_intercept, y) \n",
    "print('Sum of squared residuals for intercept-only model: ', S_intercept) # this is SSreduced"
   ]
  },
  {
   "cell_type": "code",
   "execution_count": 126,
   "id": "26c9cfd9b1de5bb8",
   "metadata": {
    "ExecuteTime": {
     "start_time": "2023-09-27T21:19:42.915807Z"
    },
    "collapsed": false
   },
   "outputs": [
    {
     "name": "stdout",
     "output_type": "stream",
     "text": [
      "Explained variance:  104.83423839082806\n"
     ]
    }
   ],
   "source": [
    "# calculate the explained variance\n",
    "explained_variance = S_intercept - S\n",
    "print('Explained variance: ', explained_variance) # this is SSRreduced - SSRfull"
   ]
  },
  {
   "cell_type": "code",
   "execution_count": 127,
   "id": "c1b1e835",
   "metadata": {},
   "outputs": [
    {
     "name": "stdout",
     "output_type": "stream",
     "text": [
      "R-squared:  0.32549541878811156\n"
     ]
    }
   ],
   "source": [
    "# Again, for my own note, the proportion of explained to unexplained variance is the R-squared\n",
    "R2 = explained_variance / S_intercept\n",
    "print('R-squared: ', R2) # this is R2full"
   ]
  },
  {
   "cell_type": "code",
   "execution_count": 128,
   "id": "888852d5",
   "metadata": {},
   "outputs": [],
   "source": [
    "def F_stat(X, y, B):\n",
    "    n = X.shape[0] # number of observations\n",
    "    p = X.shape[1] # number of predictors\n",
    "    q\n",
    "    F = (SS_res(X, y, B)/p) / (SS_res(X, y, B)/(n-p))\n",
    "    return F\n"
   ]
  },
  {
   "cell_type": "code",
   "execution_count": 129,
   "id": "41eb9399",
   "metadata": {},
   "outputs": [
    {
     "name": "stdout",
     "output_type": "stream",
     "text": [
      "F-statistic:  36.04779061524388\n"
     ]
    }
   ],
   "source": [
    "# given a design matrix X, a response vector y, and a list of beta values B, calculate the F-statistic\n",
    "def F_stat(X, y, B):\n",
    "    n = X.shape[0] # number of observations\n",
    "    p = X.shape[1] # number of predictors\n",
    "    # get sigma_hat (estimated variance of residuals)\n",
    "    sigma_hat = SS_res(X, y, B)/(n-p)\n",
    "    # get sigma_hat_reduced (estimated variance of residuals for reduced model)\n",
    "    sigma_hat_reduced = SS_res(X_intercept, y, B_intercept)/(n-1)\n",
    "    # calculate F-statistic\n",
    "    F = ((sigma_hat_reduced**2 - sigma_hat**2)/p)/(sigma_hat**2/(n-p))\n",
    "    return F\n",
    "\n",
    "F = F_stat(X, y, B)\n",
    "print('F-statistic: ', F)"
   ]
  },
  {
   "cell_type": "markdown",
   "id": "ac11f64309a20193",
   "metadata": {
    "collapsed": false
   },
   "source": [
    "To get the p-value for the F I'm using `scipy.stats.f.sf`, which is like the function I used for the t-statistic, but for the F-statistic. It takes three arguments: the F-statistic, the degrees of freedom for the numerator, and the degrees of freedom for the denominator (df for the full model and df for the reduced model).  "
   ]
  },
  {
   "cell_type": "code",
   "execution_count": 130,
   "id": "4a3f7f898e3ffd1",
   "metadata": {
    "ExecuteTime": {
     "end_time": "2023-09-27T21:01:51.594854Z",
     "start_time": "2023-09-27T21:01:51.529661Z"
    },
    "collapsed": false
   },
   "outputs": [
    {
     "name": "stdout",
     "output_type": "stream",
     "text": [
      "P-value for F-statistic:  1.1102230246251565e-16\n"
     ]
    }
   ],
   "source": [
    "# get the p-value for the F-statistic\n",
    "pval = 1 - stats.f.cdf(F, p, n-p)\n",
    "print('P-value for F-statistic: ', pval)"
   ]
  },
  {
   "cell_type": "markdown",
   "id": "fb41c659",
   "metadata": {},
   "source": [
    "# 3) Add the ability to perform t-tests for a set of contrasts"
   ]
  },
  {
   "cell_type": "code",
   "execution_count": 131,
   "id": "b04bde89",
   "metadata": {},
   "outputs": [
    {
     "data": {
      "text/html": [
       "<div>\n",
       "<style scoped>\n",
       "    .dataframe tbody tr th:only-of-type {\n",
       "        vertical-align: middle;\n",
       "    }\n",
       "\n",
       "    .dataframe tbody tr th {\n",
       "        vertical-align: top;\n",
       "    }\n",
       "\n",
       "    .dataframe thead th {\n",
       "        text-align: right;\n",
       "    }\n",
       "</style>\n",
       "<table border=\"1\" class=\"dataframe\">\n",
       "  <thead>\n",
       "    <tr style=\"text-align: right;\">\n",
       "      <th></th>\n",
       "      <th>Unnamed: 0</th>\n",
       "      <th>id</th>\n",
       "      <th>1</th>\n",
       "      <th>2</th>\n",
       "      <th>group</th>\n",
       "      <th>bpi_intensity</th>\n",
       "      <th>gender</th>\n",
       "      <th>is_patient</th>\n",
       "      <th>pain_diff</th>\n",
       "    </tr>\n",
       "  </thead>\n",
       "  <tbody>\n",
       "    <tr>\n",
       "      <th>0</th>\n",
       "      <td>0</td>\n",
       "      <td>12</td>\n",
       "      <td>2.50</td>\n",
       "      <td>2.75</td>\n",
       "      <td>3.0</td>\n",
       "      <td>2.50</td>\n",
       "      <td>1.0</td>\n",
       "      <td>1</td>\n",
       "      <td>0.25</td>\n",
       "    </tr>\n",
       "    <tr>\n",
       "      <th>1</th>\n",
       "      <td>2</td>\n",
       "      <td>14</td>\n",
       "      <td>2.50</td>\n",
       "      <td>2.00</td>\n",
       "      <td>3.0</td>\n",
       "      <td>2.50</td>\n",
       "      <td>2.0</td>\n",
       "      <td>1</td>\n",
       "      <td>-0.50</td>\n",
       "    </tr>\n",
       "    <tr>\n",
       "      <th>2</th>\n",
       "      <td>4</td>\n",
       "      <td>15</td>\n",
       "      <td>2.25</td>\n",
       "      <td>2.75</td>\n",
       "      <td>3.0</td>\n",
       "      <td>2.25</td>\n",
       "      <td>1.0</td>\n",
       "      <td>1</td>\n",
       "      <td>0.50</td>\n",
       "    </tr>\n",
       "    <tr>\n",
       "      <th>3</th>\n",
       "      <td>6</td>\n",
       "      <td>18</td>\n",
       "      <td>4.50</td>\n",
       "      <td>2.25</td>\n",
       "      <td>2.0</td>\n",
       "      <td>4.50</td>\n",
       "      <td>1.0</td>\n",
       "      <td>1</td>\n",
       "      <td>-2.25</td>\n",
       "    </tr>\n",
       "    <tr>\n",
       "      <th>4</th>\n",
       "      <td>8</td>\n",
       "      <td>23</td>\n",
       "      <td>2.50</td>\n",
       "      <td>2.25</td>\n",
       "      <td>2.0</td>\n",
       "      <td>2.50</td>\n",
       "      <td>2.0</td>\n",
       "      <td>1</td>\n",
       "      <td>-0.25</td>\n",
       "    </tr>\n",
       "    <tr>\n",
       "      <th>...</th>\n",
       "      <td>...</td>\n",
       "      <td>...</td>\n",
       "      <td>...</td>\n",
       "      <td>...</td>\n",
       "      <td>...</td>\n",
       "      <td>...</td>\n",
       "      <td>...</td>\n",
       "      <td>...</td>\n",
       "      <td>...</td>\n",
       "    </tr>\n",
       "    <tr>\n",
       "      <th>130</th>\n",
       "      <td>278</td>\n",
       "      <td>1268</td>\n",
       "      <td>4.50</td>\n",
       "      <td>2.75</td>\n",
       "      <td>2.0</td>\n",
       "      <td>2.75</td>\n",
       "      <td>2.0</td>\n",
       "      <td>1</td>\n",
       "      <td>-1.75</td>\n",
       "    </tr>\n",
       "    <tr>\n",
       "      <th>131</th>\n",
       "      <td>280</td>\n",
       "      <td>1277</td>\n",
       "      <td>4.25</td>\n",
       "      <td>5.00</td>\n",
       "      <td>2.0</td>\n",
       "      <td>5.00</td>\n",
       "      <td>2.0</td>\n",
       "      <td>1</td>\n",
       "      <td>0.75</td>\n",
       "    </tr>\n",
       "    <tr>\n",
       "      <th>132</th>\n",
       "      <td>282</td>\n",
       "      <td>1294</td>\n",
       "      <td>5.50</td>\n",
       "      <td>5.50</td>\n",
       "      <td>2.0</td>\n",
       "      <td>5.50</td>\n",
       "      <td>2.0</td>\n",
       "      <td>1</td>\n",
       "      <td>0.00</td>\n",
       "    </tr>\n",
       "    <tr>\n",
       "      <th>133</th>\n",
       "      <td>284</td>\n",
       "      <td>1302</td>\n",
       "      <td>1.00</td>\n",
       "      <td>1.00</td>\n",
       "      <td>3.0</td>\n",
       "      <td>1.00</td>\n",
       "      <td>2.0</td>\n",
       "      <td>1</td>\n",
       "      <td>0.00</td>\n",
       "    </tr>\n",
       "    <tr>\n",
       "      <th>134</th>\n",
       "      <td>286</td>\n",
       "      <td>1319</td>\n",
       "      <td>4.50</td>\n",
       "      <td>3.75</td>\n",
       "      <td>2.0</td>\n",
       "      <td>3.75</td>\n",
       "      <td>1.0</td>\n",
       "      <td>1</td>\n",
       "      <td>-0.75</td>\n",
       "    </tr>\n",
       "  </tbody>\n",
       "</table>\n",
       "<p>135 rows × 9 columns</p>\n",
       "</div>"
      ],
      "text/plain": [
       "     Unnamed: 0    id     1     2  group  bpi_intensity  gender  is_patient  \\\n",
       "0             0    12  2.50  2.75    3.0           2.50     1.0           1   \n",
       "1             2    14  2.50  2.00    3.0           2.50     2.0           1   \n",
       "2             4    15  2.25  2.75    3.0           2.25     1.0           1   \n",
       "3             6    18  4.50  2.25    2.0           4.50     1.0           1   \n",
       "4             8    23  2.50  2.25    2.0           2.50     2.0           1   \n",
       "..          ...   ...   ...   ...    ...            ...     ...         ...   \n",
       "130         278  1268  4.50  2.75    2.0           2.75     2.0           1   \n",
       "131         280  1277  4.25  5.00    2.0           5.00     2.0           1   \n",
       "132         282  1294  5.50  5.50    2.0           5.50     2.0           1   \n",
       "133         284  1302  1.00  1.00    3.0           1.00     2.0           1   \n",
       "134         286  1319  4.50  3.75    2.0           3.75     1.0           1   \n",
       "\n",
       "     pain_diff  \n",
       "0         0.25  \n",
       "1        -0.50  \n",
       "2         0.50  \n",
       "3        -2.25  \n",
       "4        -0.25  \n",
       "..         ...  \n",
       "130      -1.75  \n",
       "131       0.75  \n",
       "132       0.00  \n",
       "133       0.00  \n",
       "134      -0.75  \n",
       "\n",
       "[135 rows x 9 columns]"
      ]
     },
     "execution_count": 131,
     "metadata": {},
     "output_type": "execute_result"
    }
   ],
   "source": [
    "backpain"
   ]
  },
  {
   "cell_type": "code",
   "execution_count": 133,
   "id": "a22a51d4",
   "metadata": {},
   "outputs": [
    {
     "data": {
      "text/plain": [
       "array([[1., 0., 0., 0.],\n",
       "       [0., 1., 0., 0.],\n",
       "       [0., 0., 1., 0.],\n",
       "       [0., 0., 0., 1.]])"
      ]
     },
     "execution_count": 133,
     "metadata": {},
     "output_type": "execute_result"
    }
   ],
   "source": [
    "# in this case the contrast matrix is just the identity matrix\n",
    "\n",
    "contrast_matrix = np.identity(4)\n",
    "contrast_matrix"
   ]
  },
  {
   "cell_type": "code",
   "execution_count": 134,
   "id": "591ab7b9",
   "metadata": {},
   "outputs": [],
   "source": [
    "# run t-tests for the rows of the contrast matrix\n",
    "contrast_tvals = {}\n",
    "for i, row in enumerate(contrast_matrix):\n",
    "    contrast_tvals[var_labels[i]] = t_stat(X, y, contrast_matrix[i])\n",
    "\n",
    "# get the p-values\n",
    "contrast_pvals = {}\n",
    "for varname, tstat in tvals.items():\n",
    "    contrast_pvals[varname] = stats.t.sf(np.abs(tstat), df)*2"
   ]
  },
  {
   "cell_type": "code",
   "execution_count": 136,
   "id": "52c38638",
   "metadata": {},
   "outputs": [
    {
     "name": "stdout",
     "output_type": "stream",
     "text": [
      "T-statistics:  {'group': {'group': 2.5764426780723197, 'bpi_intensity': 0.0, 'gender': 0.0, 'is_patient': 0.0}, 'bpi_intensity': {'group': 0.0, 'bpi_intensity': 3.4406127184191035, 'gender': 0.0, 'is_patient': 0.0}, 'gender': {'group': 0.0, 'bpi_intensity': 0.0, 'gender': 1.723121464700032, 'is_patient': 0.0}, 'is_patient': {'group': 0.0, 'bpi_intensity': 0.0, 'gender': 0.0, 'is_patient': 0.9234338998931243}}\n",
      "P-values:  {'group': 1.9002890971436953e-12, 'bpi_intensity': 0.9358429755813209, 'gender': 0.37869073716402013, 'is_patient': 1.6659160795132115e-09}\n"
     ]
    }
   ],
   "source": [
    "# print out the results\n",
    "print('T-statistics: ', contrast_tvals)\n",
    "print('P-values: ', contrast_pvals)"
   ]
  },
  {
   "cell_type": "code",
   "execution_count": 140,
   "id": "6b6f30c6",
   "metadata": {},
   "outputs": [
    {
     "data": {
      "text/plain": [
       "4"
      ]
     },
     "execution_count": 140,
     "metadata": {},
     "output_type": "execute_result"
    }
   ],
   "source": [
    "B.shape[0]"
   ]
  },
  {
   "cell_type": "code",
   "execution_count": 150,
   "id": "c2837e40",
   "metadata": {},
   "outputs": [],
   "source": [
    "# now putting that functionality into a super fancy function\n",
    "def super_fancy_GLM(X, y):\n",
    "    B, S, cov_beta, R2 = GLM(X, y)\n",
    "    tvals = t_stat(X, y, B)\n",
    "    pvals = {}\n",
    "    for varname, tstat in tvals.items():\n",
    "        pvals[varname] = stats.t.sf(np.abs(tstat), df)*2\n",
    "        \n",
    "    # calculate the sum of squared residuals for the intercept-only model (i.e., the reduced model)\n",
    "    X_intercept = np.ones((X.shape[0], 1)) \n",
    "    B_intercept, S_intercept, cov_beta_intercept, R2_intercept = GLM(X_intercept, y) \n",
    "    # calculate the F-statistic\n",
    "    F = F_stat(X, y, B)\n",
    "    # get the p-value for the F-statistic\n",
    "    F_pval = 1 - stats.f.cdf(F, p, n-p)\n",
    "    output_table = pd.DataFrame({'Predictor': var_labels, 'Beta': B, 'T-statistic': tstats, 'P-value (two-tailed)': pvalues})\n",
    "    contrast_matrix = np.identity(B.shape[0])\n",
    "    c_tvals = {}\n",
    "    for i, row in enumerate(contrast_matrix):\n",
    "        c_tvals[var_labels[i]] = t_stat(X, y, contrast_matrix[i])[var_labels[i]]\n",
    "    c_pvals = {}\n",
    "    for varname, tstat in tvals.items():\n",
    "        c_pvals[varname] = stats.t.sf(np.abs(tstat), df)*2\n",
    "    return output_table, c_tvals, c_pvals, F, F_pval"
   ]
  },
  {
   "cell_type": "code",
   "execution_count": 151,
   "id": "f304fc1b",
   "metadata": {},
   "outputs": [
    {
     "data": {
      "text/html": [
       "<div>\n",
       "<style scoped>\n",
       "    .dataframe tbody tr th:only-of-type {\n",
       "        vertical-align: middle;\n",
       "    }\n",
       "\n",
       "    .dataframe tbody tr th {\n",
       "        vertical-align: top;\n",
       "    }\n",
       "\n",
       "    .dataframe thead th {\n",
       "        text-align: right;\n",
       "    }\n",
       "</style>\n",
       "<table border=\"1\" class=\"dataframe\">\n",
       "  <thead>\n",
       "    <tr style=\"text-align: right;\">\n",
       "      <th></th>\n",
       "      <th>Predictor</th>\n",
       "      <th>Beta</th>\n",
       "      <th>T-statistic</th>\n",
       "      <th>P-value (two-tailed)</th>\n",
       "    </tr>\n",
       "  </thead>\n",
       "  <tbody>\n",
       "    <tr>\n",
       "      <th>0</th>\n",
       "      <td>group</td>\n",
       "      <td>1.065337</td>\n",
       "      <td>7.780846</td>\n",
       "      <td>1.900289e-12</td>\n",
       "    </tr>\n",
       "    <tr>\n",
       "      <th>1</th>\n",
       "      <td>bpi_intensity</td>\n",
       "      <td>-0.005827</td>\n",
       "      <td>-0.080651</td>\n",
       "      <td>9.358430e-01</td>\n",
       "    </tr>\n",
       "    <tr>\n",
       "      <th>2</th>\n",
       "      <td>gender</td>\n",
       "      <td>-0.196281</td>\n",
       "      <td>-0.883303</td>\n",
       "      <td>3.786907e-01</td>\n",
       "    </tr>\n",
       "    <tr>\n",
       "      <th>3</th>\n",
       "      <td>is_patient</td>\n",
       "      <td>-3.176285</td>\n",
       "      <td>-6.484327</td>\n",
       "      <td>1.665916e-09</td>\n",
       "    </tr>\n",
       "  </tbody>\n",
       "</table>\n",
       "</div>"
      ],
      "text/plain": [
       "       Predictor      Beta  T-statistic  P-value (two-tailed)\n",
       "0          group  1.065337     7.780846          1.900289e-12\n",
       "1  bpi_intensity -0.005827    -0.080651          9.358430e-01\n",
       "2         gender -0.196281    -0.883303          3.786907e-01\n",
       "3     is_patient -3.176285    -6.484327          1.665916e-09"
      ]
     },
     "metadata": {},
     "output_type": "display_data"
    },
    {
     "name": "stdout",
     "output_type": "stream",
     "text": [
      "T-statistics for contrasts:  {'group': 2.5764426780723197, 'bpi_intensity': 3.4406127184191035, 'gender': 1.723121464700032, 'is_patient': 0.9234338998931243}\n",
      "P-values for contrasts:  {'group': 1.9002890971436953e-12, 'bpi_intensity': 0.9358429755813209, 'gender': 0.37869073716402013, 'is_patient': 1.6659160795132115e-09}\n",
      "F-statistic:  36.04779061524388\n",
      "P-value for F-statistic:  1.1102230246251565e-16\n"
     ]
    }
   ],
   "source": [
    "outputs, contrast_tvals, contrast_pvals, F, F_pval = super_fancy_GLM(X, y)\n",
    "display(outputs)\n",
    "print('T-statistics for contrasts: ', contrast_tvals)\n",
    "print('P-values for contrasts: ', contrast_pvals)\n",
    "print('F-statistic: ', F)\n",
    "print('P-value for F-statistic: ', F_pval)"
   ]
  },
  {
   "cell_type": "code",
   "execution_count": null,
   "id": "659c688a",
   "metadata": {},
   "outputs": [],
   "source": []
  }
 ],
 "metadata": {
  "kernelspec": {
   "display_name": "comp_foundations",
   "language": "python",
   "name": "python3"
  },
  "language_info": {
   "codemirror_mode": {
    "name": "ipython",
    "version": 3
   },
   "file_extension": ".py",
   "mimetype": "text/x-python",
   "name": "python",
   "nbconvert_exporter": "python",
   "pygments_lexer": "ipython3",
   "version": "3.11.5"
  }
 },
 "nbformat": 4,
 "nbformat_minor": 5
}
