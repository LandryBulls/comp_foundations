{
 "cells": [
  {
   "cell_type": "markdown",
   "source": [
    "# Homework 2: Building a GLM from scratch using only numpy (and pandas for data management)"
   ],
   "metadata": {
    "collapsed": false
   },
   "id": "10417bbed39f8e14"
  },
  {
   "cell_type": "code",
   "execution_count": 1,
   "outputs": [],
   "source": [
    "import numpy as np\n",
    "import pandas as pd"
   ],
   "metadata": {
    "collapsed": false,
    "ExecuteTime": {
     "end_time": "2023-09-27T17:50:08.911206Z",
     "start_time": "2023-09-27T17:50:08.413149Z"
    }
   },
   "id": "3af8752e358d20c9"
  },
  {
   "cell_type": "markdown",
   "source": [
    "Going forward, it's important to note that python implements the `@` operator to mean matrix multiplication. "
   ],
   "metadata": {
    "collapsed": false
   },
   "id": "a213f253e9d9db39"
  },
  {
   "cell_type": "code",
   "execution_count": 2,
   "outputs": [],
   "source": [
    "backpain = pd.read_csv('backpain.csv')"
   ],
   "metadata": {
    "collapsed": false,
    "ExecuteTime": {
     "end_time": "2023-09-27T17:50:09.878921Z",
     "start_time": "2023-09-27T17:50:09.855895Z"
    }
   },
   "id": "30c6fe86e91bdf2b"
  },
  {
   "cell_type": "markdown",
   "source": [
    "Now trying to hand-code a GLM function. I'm trying to predict `paindiff` as a function of other predictors - patient id, treatment group, bpi_intensity, gender, and patient status. \n",
    "\n",
    "Include expressions for: \n",
    "\n",
    "   * $\\hat{\\beta}$, which is computed by $\\hat{\\beta} = (X^TX)^{-1}X^Ty$\n",
    "   * $var(e)$, which is the error variance, computed by $var(e) = \\frac{1}{n-1} \\sum_{i=1}^{n} {(e_i)^2} = \\frac{S}{n-1}$\n",
    "   * $R^2$, which is computed by: $R^2 = \\frac{SS_{\\text{tot}} - SS_{\\text{res}}}{SS_{\\text{tot}}}$ or $R^2 = 1 - \\frac{SS_{\\text{res}}}{SS_{\\text{tot}}}$"
   ],
   "metadata": {
    "collapsed": false
   },
   "id": "c231c076fafdfd0d"
  },
  {
   "cell_type": "markdown",
   "source": [
    "The following will help me get there:"
   ],
   "metadata": {
    "collapsed": false
   },
   "id": "9a5e10c07e4a373f"
  },
  {
   "cell_type": "markdown",
   "source": [
    "* $S = (y - X\\beta)^T(y - X\\beta)$ represents the sum of squared errors (SSE). This is what we are minimizing in our model.\n",
    "* $SS_{\\text{res}} = e^Te$ is the sum of squared residuals. This is the sum of the squared errors after we have fit the model.\n"
   ],
   "metadata": {
    "collapsed": false
   },
   "id": "78d60760cf9d39e"
  },
  {
   "cell_type": "code",
   "execution_count": 3,
   "outputs": [],
   "source": [
    "# estimate the beta coefficients\n",
    "def get_beta_estimates(X, y):\n",
    "    betas = np.linalg.inv(X.T @ X) @ np.dot(X.T, y)\n",
    "    return betas"
   ],
   "metadata": {
    "collapsed": false,
    "ExecuteTime": {
     "end_time": "2023-09-27T17:50:10.499864Z",
     "start_time": "2023-09-27T17:50:10.488102Z"
    }
   },
   "id": "2e7052abafec5aa1"
  },
  {
   "cell_type": "code",
   "execution_count": 4,
   "outputs": [],
   "source": [
    "# estimate the covariance of beta hat\n",
    "def cov_beta_hat(X, y, B):\n",
    "    S = (y - (X @ B)).T @ (y - (X @ B))\n",
    "    n = X.shape[0]\n",
    "    return S/(n-1)"
   ],
   "metadata": {
    "collapsed": false,
    "ExecuteTime": {
     "end_time": "2023-09-27T17:50:10.670599Z",
     "start_time": "2023-09-27T17:50:10.656483Z"
    }
   },
   "id": "2ad3a33a510fac98"
  },
  {
   "cell_type": "code",
   "execution_count": 5,
   "outputs": [],
   "source": [
    "# estimate the sum of squared errors\n",
    "def SS_tot(y):\n",
    "    return np.dot((y - np.mean(y)).T, (y - np.mean(y)))"
   ],
   "metadata": {
    "collapsed": false,
    "ExecuteTime": {
     "end_time": "2023-09-27T17:50:10.821650Z",
     "start_time": "2023-09-27T17:50:10.805902Z"
    }
   },
   "id": "74a1dd691d97ccf"
  },
  {
   "cell_type": "code",
   "execution_count": 6,
   "outputs": [],
   "source": [
    "# estimate the sum of squared residuals\n",
    "def SS_res(X, y, B):\n",
    "    return np.dot((y - np.dot(X, B)).T, (y - np.dot(X, B)))"
   ],
   "metadata": {
    "collapsed": false,
    "ExecuteTime": {
     "end_time": "2023-09-27T17:50:10.967304Z",
     "start_time": "2023-09-27T17:50:10.956071Z"
    }
   },
   "id": "5f773b7c339be342"
  },
  {
   "cell_type": "code",
   "execution_count": 7,
   "outputs": [],
   "source": [
    "# estimate the R squared\n",
    "def R_squared(X, y, B):\n",
    "    return (SS_tot(y) - SS_res(X, y, B))/SS_tot(y)"
   ],
   "metadata": {
    "collapsed": false,
    "ExecuteTime": {
     "end_time": "2023-09-27T17:50:11.139457Z",
     "start_time": "2023-09-27T17:50:11.121621Z"
    }
   },
   "id": "2dbdb87c881515c2"
  },
  {
   "cell_type": "code",
   "execution_count": 8,
   "outputs": [],
   "source": [
    "# put it all together\n",
    "def GLM(X, y):\n",
    "    B = get_beta_estimates(X, y)\n",
    "    S = SS_res(X, y, B)\n",
    "    n = X.shape[0]\n",
    "    cov_beta = cov_beta_hat(X, y, B)\n",
    "    R2 = R_squared(X, y, B)\n",
    "    return B, S, cov_beta, R2"
   ],
   "metadata": {
    "collapsed": false,
    "ExecuteTime": {
     "end_time": "2023-09-27T17:50:11.297836Z",
     "start_time": "2023-09-27T17:50:11.290314Z"
    }
   },
   "id": "893463ddac4bcc2a"
  },
  {
   "cell_type": "code",
   "execution_count": 9,
   "outputs": [],
   "source": [
    "# Get my matrix of predictor values (X) and my response vector (y)\n",
    "# first make a list of the predictor variables I'm interested in\n",
    "var_labels = ['id', 'group', 'bpi_intensity', 'gender', 'is_patient']\n",
    "# subset my dataframe down to those predictors\n",
    "X = backpain[var_labels].to_numpy()\n",
    "# grab my response variable\n",
    "y = backpain['pain_diff'].to_numpy()"
   ],
   "metadata": {
    "collapsed": false,
    "ExecuteTime": {
     "end_time": "2023-09-27T17:50:11.441023Z",
     "start_time": "2023-09-27T17:50:11.432592Z"
    }
   },
   "id": "aa1727d5b9ee5c6a"
  },
  {
   "cell_type": "code",
   "execution_count": 10,
   "outputs": [
    {
     "name": "stdout",
     "output_type": "stream",
     "text": [
      "Beta estimates for each variable:\n",
      "\n",
      "id: 0.0003140003130136992\n",
      "group: 1.0560804398642403\n",
      "bpi_intensity: 0.009906787275012041\n",
      "gender: -0.1855060030488982\n",
      "is_patient: -3.429480968417778\n",
      "\n",
      "\n",
      "S (sum of squared errors):  215.02230361367157\n",
      "cov_beta:  1.6046440568184446\n",
      "R2:  0.33238629060675456\n"
     ]
    }
   ],
   "source": [
    "# get results and print them out\n",
    "results = GLM(X, y)\n",
    "print('Beta estimates for each variable:\\n')\n",
    "for i, var in enumerate(var_labels):\n",
    "    print(f'{var}: {results[0][i]}')\n",
    "print('\\n\\nS (sum of squared errors): ', results[1])\n",
    "print('cov_beta: ', results[2])\n",
    "print('R2: ', results[3])"
   ],
   "metadata": {
    "collapsed": false,
    "ExecuteTime": {
     "end_time": "2023-09-27T17:50:11.610211Z",
     "start_time": "2023-09-27T17:50:11.594691Z"
    }
   },
   "id": "b1a9170f5800a26c"
  },
  {
   "cell_type": "markdown",
   "source": [
    "# Comparing my hand-built results with statsmodels results"
   ],
   "metadata": {
    "collapsed": false
   },
   "id": "48114bb27798170c"
  },
  {
   "cell_type": "code",
   "execution_count": 11,
   "outputs": [],
   "source": [
    "import statsmodels.api as sm"
   ],
   "metadata": {
    "collapsed": false,
    "ExecuteTime": {
     "end_time": "2023-09-27T17:50:12.784374Z",
     "start_time": "2023-09-27T17:50:11.869745Z"
    }
   },
   "id": "f3bb9836d026a864"
  },
  {
   "cell_type": "code",
   "execution_count": 12,
   "outputs": [],
   "source": [
    "# add a constant to X (statsmodels does not automatically add a constant)\n",
    "X = sm.add_constant(X)\n",
    "# fit the model using statsmodels OLS class and the fit method\n",
    "model = sm.OLS(y, X).fit()"
   ],
   "metadata": {
    "collapsed": false,
    "ExecuteTime": {
     "end_time": "2023-09-27T17:50:12.791604Z",
     "start_time": "2023-09-27T17:50:12.786573Z"
    }
   },
   "id": "3be9ac992967e006"
  },
  {
   "cell_type": "code",
   "execution_count": 13,
   "outputs": [
    {
     "name": "stdout",
     "output_type": "stream",
     "text": [
      "                            OLS Regression Results                            \n",
      "==============================================================================\n",
      "Dep. Variable:                      y   R-squared:                       0.332\n",
      "Model:                            OLS   Adj. R-squared:                  0.312\n",
      "Method:                 Least Squares   F-statistic:                     16.18\n",
      "Date:                Wed, 27 Sep 2023   Prob (F-statistic):           8.88e-11\n",
      "Time:                        13:50:13   Log-Likelihood:                -222.98\n",
      "No. Observations:                 135   AIC:                             456.0\n",
      "Df Residuals:                     130   BIC:                             470.5\n",
      "Df Model:                           4                                         \n",
      "Covariance Type:            nonrobust                                         \n",
      "==============================================================================\n",
      "                 coef    std err          t      P>|t|      [0.025      0.975]\n",
      "------------------------------------------------------------------------------\n",
      "x1             0.0003      0.000      1.158      0.249      -0.000       0.001\n",
      "x2             1.0561      0.137      7.710      0.000       0.785       1.327\n",
      "x3             0.0099      0.073      0.135      0.893      -0.135       0.155\n",
      "x4            -0.1855      0.222     -0.835      0.405      -0.625       0.254\n",
      "const         -3.4295      0.536     -6.401      0.000      -4.490      -2.369\n",
      "==============================================================================\n",
      "Omnibus:                        8.858   Durbin-Watson:                   2.009\n",
      "Prob(Omnibus):                  0.012   Jarque-Bera (JB):                8.995\n",
      "Skew:                          -0.517   Prob(JB):                       0.0111\n",
      "Kurtosis:                       3.728   Cond. No.                     3.90e+03\n",
      "==============================================================================\n",
      "\n",
      "Notes:\n",
      "[1] Standard Errors assume that the covariance matrix of the errors is correctly specified.\n",
      "[2] The condition number is large, 3.9e+03. This might indicate that there are\n",
      "strong multicollinearity or other numerical problems.\n",
      "R2: 0.3323862906067543\n"
     ]
    }
   ],
   "source": [
    "# print out the results\n",
    "print(model.summary())\n",
    "# get the r-squared\n",
    "print(f\"R2: {model.rsquared}\")"
   ],
   "metadata": {
    "collapsed": false,
    "ExecuteTime": {
     "end_time": "2023-09-27T17:50:13.297636Z",
     "start_time": "2023-09-27T17:50:13.283081Z"
    }
   },
   "id": "27958c7465d42ef0"
  },
  {
   "cell_type": "markdown",
   "source": [
    "Hooray! Looks like my hand-built model is working. Also nice to know that statsmodels OLS is really doing the same thing as my hand-built model."
   ],
   "metadata": {
    "collapsed": false
   },
   "id": "d098d583a85dd56b"
  },
  {
   "cell_type": "code",
   "execution_count": null,
   "outputs": [],
   "source": [],
   "metadata": {
    "collapsed": false
   },
   "id": "2844d9efcb6db93d"
  }
 ],
 "metadata": {
  "kernelspec": {
   "display_name": "Python 3",
   "language": "python",
   "name": "python3"
  },
  "language_info": {
   "codemirror_mode": {
    "name": "ipython",
    "version": 2
   },
   "file_extension": ".py",
   "mimetype": "text/x-python",
   "name": "python",
   "nbconvert_exporter": "python",
   "pygments_lexer": "ipython2",
   "version": "2.7.6"
  }
 },
 "nbformat": 4,
 "nbformat_minor": 5
}
